{
 "cells": [
  {
   "cell_type": "code",
   "execution_count": 25,
   "metadata": {},
   "outputs": [
    {
     "name": "stderr",
     "output_type": "stream",
     "text": [
      "C:\\Users\\ghdak\\AppData\\Local\\Temp/ipykernel_19916/3790775526.py:33: SettingWithCopyWarning: \n",
      "A value is trying to be set on a copy of a slice from a DataFrame\n",
      "\n",
      "See the caveats in the documentation: https://pandas.pydata.org/pandas-docs/stable/user_guide/indexing.html#returning-a-view-versus-a-copy\n",
      "  df['일계도'][0] = 0\n",
      "C:\\Users\\ghdak\\AppData\\Local\\Temp/ipykernel_19916/3790775526.py:35: SettingWithCopyWarning: \n",
      "A value is trying to be set on a copy of a slice from a DataFrame\n",
      "\n",
      "See the caveats in the documentation: https://pandas.pydata.org/pandas-docs/stable/user_guide/indexing.html#returning-a-view-versus-a-copy\n",
      "  df['일계도'][i] = df['종가'][i] - df['종가'][i-1]\n",
      "C:\\Users\\ghdak\\AppData\\Local\\Temp/ipykernel_19916/3790775526.py:37: SettingWithCopyWarning: \n",
      "A value is trying to be set on a copy of a slice from a DataFrame\n",
      "\n",
      "See the caveats in the documentation: https://pandas.pydata.org/pandas-docs/stable/user_guide/indexing.html#returning-a-view-versus-a-copy\n",
      "  df['이계도'][0] = 0\n",
      "C:\\Users\\ghdak\\AppData\\Local\\Temp/ipykernel_19916/3790775526.py:39: SettingWithCopyWarning: \n",
      "A value is trying to be set on a copy of a slice from a DataFrame\n",
      "\n",
      "See the caveats in the documentation: https://pandas.pydata.org/pandas-docs/stable/user_guide/indexing.html#returning-a-view-versus-a-copy\n",
      "  df['이계도'][i] = df['일계도'][i] - df['일계도'][i-1]\n",
      "C:\\Users\\ghdak\\AppData\\Local\\Temp/ipykernel_19916/3790775526.py:43: SettingWithCopyWarning: \n",
      "A value is trying to be set on a copy of a slice from a DataFrame\n",
      "\n",
      "See the caveats in the documentation: https://pandas.pydata.org/pandas-docs/stable/user_guide/indexing.html#returning-a-view-versus-a-copy\n",
      "  df['일계도부호'][i] = 1\n",
      "C:\\Users\\ghdak\\AppData\\Local\\Temp/ipykernel_19916/3790775526.py:45: SettingWithCopyWarning: \n",
      "A value is trying to be set on a copy of a slice from a DataFrame\n",
      "\n",
      "See the caveats in the documentation: https://pandas.pydata.org/pandas-docs/stable/user_guide/indexing.html#returning-a-view-versus-a-copy\n",
      "  df['일계도부호'][i] = 0\n",
      "C:\\Users\\ghdak\\AppData\\Local\\Temp/ipykernel_19916/3790775526.py:49: SettingWithCopyWarning: \n",
      "A value is trying to be set on a copy of a slice from a DataFrame\n",
      "\n",
      "See the caveats in the documentation: https://pandas.pydata.org/pandas-docs/stable/user_guide/indexing.html#returning-a-view-versus-a-copy\n",
      "  df['이계도부호'][i] = 1\n",
      "C:\\Users\\ghdak\\AppData\\Local\\Temp/ipykernel_19916/3790775526.py:51: SettingWithCopyWarning: \n",
      "A value is trying to be set on a copy of a slice from a DataFrame\n",
      "\n",
      "See the caveats in the documentation: https://pandas.pydata.org/pandas-docs/stable/user_guide/indexing.html#returning-a-view-versus-a-copy\n",
      "  df['이계도부호'][i] = 0\n"
     ]
    }
   ],
   "source": [
    "import numpy as np\n",
    "import pandas as pd\n",
    "import requests\n",
    "from pykrx import stock\n",
    "import time\n",
    "from datetime import datetime\n",
    "\n",
    "import matplotlib.pyplot as plt\n",
    "import matplotlib\n",
    "from matplotlib import font_manager, rc\n",
    "import platform\n",
    "if platform.system() == 'Windows':\n",
    "# 윈도우인 경우\n",
    "    font_name = font_manager.FontProperties(fname=\"c:/Windows/Fonts/malgun.ttf\").get_name()\n",
    "    rc('font', family=font_name)\n",
    "matplotlib.rcParams['axes.unicode_minus'] = False\n",
    "stock_list = pd.DataFrame({'종목코드':stock.get_market_ticker_list(market=\"ALL\")})\n",
    "stock_list['종목명'] = stock_list['종목코드'].map(lambda x: stock.get_market_ticker_name(x))\n",
    "\n",
    "stock_list = pd.DataFrame({'종목코드':stock.get_market_ticker_list(market=\"ALL\")})\n",
    "stock_list['종목명'] = stock_list['종목코드'].map(lambda x: stock.get_market_ticker_name(x))\n",
    "\n",
    "name = '펄어비스'\n",
    "fromdate = str(20210101)\n",
    "todate = str(20211104)\n",
    "\n",
    "ticker1 = stock_list.loc[stock_list['종목명']== name, '종목코드']\n",
    "df1 = stock.get_market_ohlcv_by_date(fromdate=fromdate, todate=todate, ticker=ticker1)\n",
    "\n",
    "seri = df1['종가']\n",
    "df = pd.DataFrame(seri, columns=['종가','일계도','이계도','일계도부호','이계도부호'])\n",
    "\n",
    "df['일계도'][0] = 0\n",
    "for i in range(1, len(seri)):\n",
    "    df['일계도'][i] = df['종가'][i] - df['종가'][i-1]\n",
    "\n",
    "df['이계도'][0] = 0\n",
    "for i in range(1, len(seri)):\n",
    "    df['이계도'][i] = df['일계도'][i] - df['일계도'][i-1]\n",
    "\n",
    "for i in range(len(df)):\n",
    "    if df['일계도'][i] >= 0:\n",
    "        df['일계도부호'][i] = 1\n",
    "    else:\n",
    "        df['일계도부호'][i] = 0\n",
    "\n",
    "for i in range(len(df)):\n",
    "    if df['이계도'][i] >= 0:\n",
    "        df['이계도부호'][i] = 1\n",
    "    else:\n",
    "        df['이계도부호'][i] = 0\n",
    "\n",
    "df_diff2 = df['일계도부호']\n",
    "df_diff2 = np.array(df_diff2)"
   ]
  },
  {
   "cell_type": "code",
   "execution_count": 31,
   "metadata": {},
   "outputs": [],
   "source": [
    "test_x = [df_diff2[i:i+30] for i in range(len(df_diff2[:150]))]\n",
    "test_y = [df_diff2[i+31] for i in range(len(df_diff2[:150]))]"
   ]
  },
  {
   "cell_type": "code",
   "execution_count": 32,
   "metadata": {},
   "outputs": [],
   "source": [
    "import import_ipynb\n",
    "from momentum import model"
   ]
  },
  {
   "cell_type": "code",
   "execution_count": 33,
   "metadata": {},
   "outputs": [
    {
     "name": "stderr",
     "output_type": "stream",
     "text": [
      "C:\\Users\\ghdak\\anaconda3\\envs\\gpu_env\\lib\\site-packages\\sklearn\\base.py:561: FutureWarning: Arrays of bytes/strings is being converted to decimal numbers if dtype='numeric'. This behavior is deprecated in 0.24 and will be removed in 1.1 (renaming of 0.26). Please convert your data to numeric values explicitly instead.\n",
      "  X = check_array(X, **check_params)\n"
     ]
    },
    {
     "data": {
      "text/plain": [
       "array([ 0.26768783,  0.41374824,  0.22665378,  0.43345531,  0.31884867,\n",
       "        0.38649868,  0.62158501,  0.8373333 ,  0.47945128,  0.95364879,\n",
       "        0.41451476,  0.43648125,  0.6847098 ,  0.48067746,  0.88978416,\n",
       "        0.42086582,  0.50391141,  0.6474081 ,  0.24804938,  0.32638992,\n",
       "        0.585119  ,  0.7596226 ,  0.62993814,  0.38199133,  0.48475597,\n",
       "        0.48088229,  0.28453316,  0.33873695,  0.46849417,  0.64547477,\n",
       "        0.74703992,  0.48587066,  0.63989393,  0.43683798,  0.61284096,\n",
       "        0.67160984,  0.85008405,  0.94525221,  0.47485962,  0.64192948,\n",
       "        0.36555496,  0.66839314,  0.27696661,  0.49880123,  0.71271825,\n",
       "        0.7559414 ,  0.57747873,  0.37218869,  0.30207655,  0.51623011,\n",
       "        0.53503195,  0.35026355,  0.41952344,  0.33251302,  0.28733416,\n",
       "        0.53990351,  0.41698558,  0.76757478,  0.59796604,  0.73865361,\n",
       "        0.96011338,  0.83639161,  0.63678196,  0.66694729,  0.3670489 ,\n",
       "        0.30605897,  0.3164337 ,  0.31982371,  0.14811374,  0.3718164 ,\n",
       "        0.45286387,  0.46095941,  0.35971102,  0.29926473,  0.70430906,\n",
       "        0.62196072,  0.44960776,  0.66358171,  0.65339336,  0.40793322,\n",
       "        0.41418564,  0.53389697,  0.87050188,  0.89928422,  0.42844724,\n",
       "        0.89391795,  0.77458078,  0.60864403,  0.40661655,  0.3634852 ,\n",
       "        0.32970834,  0.25912836,  0.23966365,  0.3159079 ,  0.51675158,\n",
       "        0.22273731,  0.41752108,  0.80108955,  0.78779442,  1.16002141,\n",
       "        0.83243605,  0.6831058 ,  0.68426057,  0.40120509,  0.48705697,\n",
       "        0.59815845,  0.36382823,  0.58456946,  0.16019416,  0.31299995,\n",
       "        0.50889135,  0.49770924,  0.81007172,  0.69344185,  0.70805421,\n",
       "        0.53917241,  0.64201204,  0.45025348,  0.40627966,  0.64427357,\n",
       "        0.42306401,  0.62091235,  0.29257006,  0.12523381,  0.54961792,\n",
       "        0.50185091,  0.7982899 ,  0.53206413,  0.54603415,  0.57927608,\n",
       "        0.63472008,  0.5852261 ,  0.69689411,  0.59814169,  0.83856072,\n",
       "        0.56794384,  0.69229834,  0.54088396,  0.32149386,  0.35888443,\n",
       "        0.46779045,  0.36599303,  0.41746142, -0.02035033,  0.19051611,\n",
       "        0.5385923 ,  0.36619723,  0.40052273,  0.63776583,  0.95818496])"
      ]
     },
     "execution_count": 33,
     "metadata": {},
     "output_type": "execute_result"
    }
   ],
   "source": [
    "pred_y = model.predict(test_x)\n",
    "pred_y"
   ]
  },
  {
   "cell_type": "code",
   "execution_count": 36,
   "metadata": {},
   "outputs": [],
   "source": [
    "trans_pred = pred_y.copy()\n",
    "for i in range(len(pred_y)):\n",
    "    if pred_y[i] < 0.5:\n",
    "        trans_pred[i] = 0\n",
    "    else:\n",
    "        trans_pred[i] = 1"
   ]
  },
  {
   "cell_type": "code",
   "execution_count": 37,
   "metadata": {},
   "outputs": [
    {
     "data": {
      "text/plain": [
       "0.42"
      ]
     },
     "execution_count": 37,
     "metadata": {},
     "output_type": "execute_result"
    }
   ],
   "source": [
    "from sklearn.metrics import mean_absolute_error\n",
    "\n",
    "mae = mean_absolute_error(test_y, trans_pred)\n",
    "round(mae, 2)"
   ]
  },
  {
   "cell_type": "code",
   "execution_count": null,
   "metadata": {},
   "outputs": [],
   "source": []
  }
 ],
 "metadata": {
  "interpreter": {
   "hash": "74c836ce15075f4ca5d2c1e02dd832651d0d5136e5f1c91f13c26045b791040c"
  },
  "kernelspec": {
   "display_name": "Python 3.9.7 64-bit ('gpu_env': conda)",
   "name": "python3"
  },
  "language_info": {
   "codemirror_mode": {
    "name": "ipython",
    "version": 3
   },
   "file_extension": ".py",
   "mimetype": "text/x-python",
   "name": "python",
   "nbconvert_exporter": "python",
   "pygments_lexer": "ipython3",
   "version": "3.9.7"
  },
  "orig_nbformat": 4
 },
 "nbformat": 4,
 "nbformat_minor": 2
}
