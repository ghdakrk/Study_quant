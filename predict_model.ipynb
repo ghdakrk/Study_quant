{
 "cells": [
  {
   "cell_type": "code",
   "execution_count": null,
   "metadata": {},
   "outputs": [],
   "source": [
    "from pykrx import stock\n",
    "from sklearn.preprocessing import MinMaxScaler\n",
    "import pandas as pd\n",
    "import matplotlib.pyplot as plt\n",
    "import matplotlib\n",
    "from matplotlib import font_manager, rc\n",
    "import platform\n",
    "if platform.system() == 'Windows':\n",
    "# 윈도우인 경우\n",
    "    font_name = font_manager.FontProperties(fname=\"c:/Windows/Fonts/malgun.ttf\").get_name()\n",
    "    rc('font', family=font_name)\n",
    "matplotlib.rcParams['axes.unicode_minus'] = False\n",
    "stock_list = pd.DataFrame({'종목코드':stock.get_market_ticker_list(market=\"ALL\")})\n",
    "stock_list['종목명'] = stock_list['종목코드'].map(lambda x: stock.get_market_ticker_name(x))\n",
    "\n",
    "name = '카카오'\n",
    "fromdate = str(20210501)\n",
    "todate = str(20210830)\n",
    "\n",
    "ticker = stock_list.loc[stock_list['종목명']==name, '종목코드']\n",
    "df = stock.get_market_ohlcv_by_date(fromdate=fromdate, todate=todate, ticker=ticker)\n",
    "\n",
    "\n",
    "df = df.rename(columns={'시가':'Open', '고가':'High', '저가':'Low', '종가':'Close', '거래량':'Volume'})\n",
    "df['ma20'] = df['Close'].rolling(window=20).mean() # 20일 이동평균\n",
    "df['stddev'] = df['Close'].rolling(window=20).std() # 20일 이동표준편차\n",
    "df['upper'] = df['ma20'] + 2*df['stddev'] # 상단밴드\n",
    "df['lower'] = df['ma20'] - 2*df['stddev'] # 하단밴드\n",
    "df = df[19:] # 20일 이동평균을 구했기 때문에 20번째 행부터 값이 들어가 있음\n",
    "df['volatility'] = (df['upper'] - df['lower'])/2\n",
    "\n",
    "df1 = df.copy().loc[:,('Close','ma20','volatility')]\n",
    "df1.insert(0, column='f_close', value=0)\n",
    "df1.insert(0, column='f_ma20', value=0)\n",
    "df1.insert(0, column='f_vol', value=0)\n",
    "df1.insert(0, column='ff_vol', value=0)\n",
    "\n",
    "for i in range(1, len(df1)):\n",
    "    df1['f_vol'][i] = df['volatility'][i] - df['volatility'][i-1]\n",
    "    df1['f_ma20'][i] = df['ma20'][i] - df['ma20'][i-1]\n",
    "    df1['f_close'][i] = df['Close'][i] - df['Close'][i-1]\n",
    "for i in range(1, len(df1)):\n",
    "    df1['ff_vol'][i] = df1['f_vol'][i] - df1['f_vol'][i-1]\n",
    "\n",
    "\n",
    "scaler = MinMaxScaler()\n",
    "df2 = df1.copy()\n",
    "df2[:] = scaler.fit_transform(df2[:])\n",
    "\n",
    "\n",
    "plt.figure(figsize=(13, 8))\n",
    "plt.plot(df2.index, df2['Close']+1, label='Close')\n",
    "plt.plot(df2['ma20']+1, color='black', linestyle='--')\n",
    "plt.plot(df2['f_vol'])\n",
    "plt.axhline(df2['f_vol'].mean(), color='red', linestyle='--')\n",
    "plt.legend(['Close', 'ma20','f_vol', 'f_vol_mean',])\n",
    "plt.title('변동성 지수')\n",
    "plt.show()"
   ]
  }
 ],
 "metadata": {
  "interpreter": {
   "hash": "74c836ce15075f4ca5d2c1e02dd832651d0d5136e5f1c91f13c26045b791040c"
  },
  "kernelspec": {
   "display_name": "Python 3.9.7 64-bit ('gpu_env': conda)",
   "language": "python",
   "name": "python3"
  },
  "language_info": {
   "name": "python",
   "version": "3.9.7"
  },
  "orig_nbformat": 4
 },
 "nbformat": 4,
 "nbformat_minor": 2
}
