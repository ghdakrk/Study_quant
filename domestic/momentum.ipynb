{
 "cells": [
  {
   "cell_type": "code",
   "execution_count": 830,
   "metadata": {},
   "outputs": [],
   "source": [
    "import numpy as np\n",
    "import pandas as pd\n",
    "import requests\n",
    "from pykrx import stock\n",
    "import time\n",
    "from datetime import datetime"
   ]
  },
  {
   "cell_type": "code",
   "execution_count": 831,
   "metadata": {},
   "outputs": [],
   "source": [
    "import matplotlib.pyplot as plt\n",
    "import matplotlib\n",
    "from matplotlib import font_manager, rc\n",
    "import platform\n",
    "if platform.system() == 'Windows':\n",
    "# 윈도우인 경우\n",
    "    font_name = font_manager.FontProperties(fname=\"c:/Windows/Fonts/malgun.ttf\").get_name()\n",
    "    rc('font', family=font_name)\n",
    "matplotlib.rcParams['axes.unicode_minus'] = False\n",
    "stock_list = pd.DataFrame({'종목코드':stock.get_market_ticker_list(market=\"ALL\")})\n",
    "stock_list['종목명'] = stock_list['종목코드'].map(lambda x: stock.get_market_ticker_name(x))"
   ]
  },
  {
   "cell_type": "code",
   "execution_count": 832,
   "metadata": {},
   "outputs": [],
   "source": [
    "stock_list = pd.DataFrame({'종목코드':stock.get_market_ticker_list(market=\"ALL\")})\n",
    "stock_list['종목명'] = stock_list['종목코드'].map(lambda x: stock.get_market_ticker_name(x))"
   ]
  },
  {
   "cell_type": "code",
   "execution_count": 833,
   "metadata": {},
   "outputs": [
    {
     "data": {
      "text/html": [
       "<div>\n",
       "<style scoped>\n",
       "    .dataframe tbody tr th:only-of-type {\n",
       "        vertical-align: middle;\n",
       "    }\n",
       "\n",
       "    .dataframe tbody tr th {\n",
       "        vertical-align: top;\n",
       "    }\n",
       "\n",
       "    .dataframe thead th {\n",
       "        text-align: right;\n",
       "    }\n",
       "</style>\n",
       "<table border=\"1\" class=\"dataframe\">\n",
       "  <thead>\n",
       "    <tr style=\"text-align: right;\">\n",
       "      <th></th>\n",
       "      <th>종목코드</th>\n",
       "      <th>종목명</th>\n",
       "    </tr>\n",
       "  </thead>\n",
       "  <tbody>\n",
       "    <tr>\n",
       "      <th>0</th>\n",
       "      <td>060310</td>\n",
       "      <td>3S</td>\n",
       "    </tr>\n",
       "    <tr>\n",
       "      <th>1</th>\n",
       "      <td>095570</td>\n",
       "      <td>AJ네트웍스</td>\n",
       "    </tr>\n",
       "    <tr>\n",
       "      <th>2</th>\n",
       "      <td>006840</td>\n",
       "      <td>AK홀딩스</td>\n",
       "    </tr>\n",
       "    <tr>\n",
       "      <th>3</th>\n",
       "      <td>054620</td>\n",
       "      <td>APS홀딩스</td>\n",
       "    </tr>\n",
       "    <tr>\n",
       "      <th>4</th>\n",
       "      <td>265520</td>\n",
       "      <td>AP시스템</td>\n",
       "    </tr>\n",
       "  </tbody>\n",
       "</table>\n",
       "</div>"
      ],
      "text/plain": [
       "     종목코드     종목명\n",
       "0  060310      3S\n",
       "1  095570  AJ네트웍스\n",
       "2  006840   AK홀딩스\n",
       "3  054620  APS홀딩스\n",
       "4  265520   AP시스템"
      ]
     },
     "execution_count": 833,
     "metadata": {},
     "output_type": "execute_result"
    }
   ],
   "source": [
    "stock_list.head()"
   ]
  },
  {
   "cell_type": "code",
   "execution_count": 834,
   "metadata": {},
   "outputs": [
    {
     "data": {
      "image/png": "[encoded data removed]",
      "text/plain": [
       "<Figure size 576x432 with 1 Axes>"
      ]
     },
     "metadata": {
      "needs_background": "light"
     },
     "output_type": "display_data"
    }
   ],
   "source": [
    "name = '카카오'\n",
    "fromdate = str(20160101)\n",
    "todate = str(20211104)\n",
    "\n",
    "ticker1 = stock_list.loc[stock_list['종목명']== name, '종목코드']\n",
    "df1 = stock.get_market_ohlcv_by_date(fromdate=fromdate, todate=todate, ticker=ticker1)\n",
    "\n",
    "data = df1['종가']\n",
    "\n",
    "plt.figure(figsize=(8, 6))\n",
    "plt.plot(data)\n",
    "plt.legend([f'{name}'])\n",
    "plt.show()"
   ]
  },
  {
   "cell_type": "code",
   "execution_count": 835,
   "metadata": {},
   "outputs": [],
   "source": [
    "seri = df1['종가']"
   ]
  },
  {
   "cell_type": "code",
   "execution_count": 836,
   "metadata": {},
   "outputs": [
    {
     "data": {
      "text/html": [
       "<div>\n",
       "<style scoped>\n",
       "    .dataframe tbody tr th:only-of-type {\n",
       "        vertical-align: middle;\n",
       "    }\n",
       "\n",
       "    .dataframe tbody tr th {\n",
       "        vertical-align: top;\n",
       "    }\n",
       "\n",
       "    .dataframe thead th {\n",
       "        text-align: right;\n",
       "    }\n",
       "</style>\n",
       "<table border=\"1\" class=\"dataframe\">\n",
       "  <thead>\n",
       "    <tr style=\"text-align: right;\">\n",
       "      <th></th>\n",
       "      <th>종가</th>\n",
       "      <th>일계도</th>\n",
       "      <th>이계도</th>\n",
       "      <th>일계도부호</th>\n",
       "      <th>이계도부호</th>\n",
       "      <th>일계도비율</th>\n",
       "    </tr>\n",
       "    <tr>\n",
       "      <th>날짜</th>\n",
       "      <th></th>\n",
       "      <th></th>\n",
       "      <th></th>\n",
       "      <th></th>\n",
       "      <th></th>\n",
       "      <th></th>\n",
       "    </tr>\n",
       "  </thead>\n",
       "  <tbody>\n",
       "    <tr>\n",
       "      <th>2016-01-04</th>\n",
       "      <td>23142</td>\n",
       "      <td>NaN</td>\n",
       "      <td>NaN</td>\n",
       "      <td>NaN</td>\n",
       "      <td>NaN</td>\n",
       "      <td>NaN</td>\n",
       "    </tr>\n",
       "    <tr>\n",
       "      <th>2016-01-05</th>\n",
       "      <td>23503</td>\n",
       "      <td>NaN</td>\n",
       "      <td>NaN</td>\n",
       "      <td>NaN</td>\n",
       "      <td>NaN</td>\n",
       "      <td>NaN</td>\n",
       "    </tr>\n",
       "    <tr>\n",
       "      <th>2016-01-06</th>\n",
       "      <td>23905</td>\n",
       "      <td>NaN</td>\n",
       "      <td>NaN</td>\n",
       "      <td>NaN</td>\n",
       "      <td>NaN</td>\n",
       "      <td>NaN</td>\n",
       "    </tr>\n",
       "    <tr>\n",
       "      <th>2016-01-07</th>\n",
       "      <td>23544</td>\n",
       "      <td>NaN</td>\n",
       "      <td>NaN</td>\n",
       "      <td>NaN</td>\n",
       "      <td>NaN</td>\n",
       "      <td>NaN</td>\n",
       "    </tr>\n",
       "    <tr>\n",
       "      <th>2016-01-08</th>\n",
       "      <td>23122</td>\n",
       "      <td>NaN</td>\n",
       "      <td>NaN</td>\n",
       "      <td>NaN</td>\n",
       "      <td>NaN</td>\n",
       "      <td>NaN</td>\n",
       "    </tr>\n",
       "  </tbody>\n",
       "</table>\n",
       "</div>"
      ],
      "text/plain": [
       "               종가  일계도  이계도 일계도부호 이계도부호 일계도비율\n",
       "날짜                                           \n",
       "2016-01-04  23142  NaN  NaN   NaN   NaN   NaN\n",
       "2016-01-05  23503  NaN  NaN   NaN   NaN   NaN\n",
       "2016-01-06  23905  NaN  NaN   NaN   NaN   NaN\n",
       "2016-01-07  23544  NaN  NaN   NaN   NaN   NaN\n",
       "2016-01-08  23122  NaN  NaN   NaN   NaN   NaN"
      ]
     },
     "execution_count": 836,
     "metadata": {},
     "output_type": "execute_result"
    }
   ],
   "source": [
    "df = pd.DataFrame(seri, columns=['종가','일계도','이계도','일계도부호','이계도부호','일계도비율'])\n",
    "df.head()"
   ]
  },
  {
   "cell_type": "code",
   "execution_count": 837,
   "metadata": {},
   "outputs": [
    {
     "name": "stderr",
     "output_type": "stream",
     "text": [
      "C:\\Users\\ghdak\\AppData\\Local\\Temp/ipykernel_8988/829604211.py:1: SettingWithCopyWarning: \n",
      "A value is trying to be set on a copy of a slice from a DataFrame\n",
      "\n",
      "See the caveats in the documentation: https://pandas.pydata.org/pandas-docs/stable/user_guide/indexing.html#returning-a-view-versus-a-copy\n",
      "  df['일계도'][0] = 0\n"
     ]
    },
    {
     "data": {
      "text/html": [
       "<div>\n",
       "<style scoped>\n",
       "    .dataframe tbody tr th:only-of-type {\n",
       "        vertical-align: middle;\n",
       "    }\n",
       "\n",
       "    .dataframe tbody tr th {\n",
       "        vertical-align: top;\n",
       "    }\n",
       "\n",
       "    .dataframe thead th {\n",
       "        text-align: right;\n",
       "    }\n",
       "</style>\n",
       "<table border=\"1\" class=\"dataframe\">\n",
       "  <thead>\n",
       "    <tr style=\"text-align: right;\">\n",
       "      <th></th>\n",
       "      <th>종가</th>\n",
       "      <th>일계도</th>\n",
       "      <th>이계도</th>\n",
       "      <th>일계도부호</th>\n",
       "      <th>이계도부호</th>\n",
       "      <th>일계도비율</th>\n",
       "    </tr>\n",
       "    <tr>\n",
       "      <th>날짜</th>\n",
       "      <th></th>\n",
       "      <th></th>\n",
       "      <th></th>\n",
       "      <th></th>\n",
       "      <th></th>\n",
       "      <th></th>\n",
       "    </tr>\n",
       "  </thead>\n",
       "  <tbody>\n",
       "    <tr>\n",
       "      <th>2016-01-04</th>\n",
       "      <td>23142</td>\n",
       "      <td>0</td>\n",
       "      <td>NaN</td>\n",
       "      <td>NaN</td>\n",
       "      <td>NaN</td>\n",
       "      <td>NaN</td>\n",
       "    </tr>\n",
       "    <tr>\n",
       "      <th>2016-01-05</th>\n",
       "      <td>23503</td>\n",
       "      <td>NaN</td>\n",
       "      <td>NaN</td>\n",
       "      <td>NaN</td>\n",
       "      <td>NaN</td>\n",
       "      <td>NaN</td>\n",
       "    </tr>\n",
       "    <tr>\n",
       "      <th>2016-01-06</th>\n",
       "      <td>23905</td>\n",
       "      <td>NaN</td>\n",
       "      <td>NaN</td>\n",
       "      <td>NaN</td>\n",
       "      <td>NaN</td>\n",
       "      <td>NaN</td>\n",
       "    </tr>\n",
       "    <tr>\n",
       "      <th>2016-01-07</th>\n",
       "      <td>23544</td>\n",
       "      <td>NaN</td>\n",
       "      <td>NaN</td>\n",
       "      <td>NaN</td>\n",
       "      <td>NaN</td>\n",
       "      <td>NaN</td>\n",
       "    </tr>\n",
       "    <tr>\n",
       "      <th>2016-01-08</th>\n",
       "      <td>23122</td>\n",
       "      <td>NaN</td>\n",
       "      <td>NaN</td>\n",
       "      <td>NaN</td>\n",
       "      <td>NaN</td>\n",
       "      <td>NaN</td>\n",
       "    </tr>\n",
       "  </tbody>\n",
       "</table>\n",
       "</div>"
      ],
      "text/plain": [
       "               종가  일계도  이계도 일계도부호 이계도부호 일계도비율\n",
       "날짜                                           \n",
       "2016-01-04  23142    0  NaN   NaN   NaN   NaN\n",
       "2016-01-05  23503  NaN  NaN   NaN   NaN   NaN\n",
       "2016-01-06  23905  NaN  NaN   NaN   NaN   NaN\n",
       "2016-01-07  23544  NaN  NaN   NaN   NaN   NaN\n",
       "2016-01-08  23122  NaN  NaN   NaN   NaN   NaN"
      ]
     },
     "execution_count": 837,
     "metadata": {},
     "output_type": "execute_result"
    }
   ],
   "source": [
    "df['일계도'][0] = 0\n",
    "df.head()\n"
   ]
  },
  {
   "cell_type": "code",
   "execution_count": 838,
   "metadata": {},
   "outputs": [
    {
     "name": "stderr",
     "output_type": "stream",
     "text": [
      "C:\\Users\\ghdak\\AppData\\Local\\Temp/ipykernel_8988/3311632609.py:2: SettingWithCopyWarning: \n",
      "A value is trying to be set on a copy of a slice from a DataFrame\n",
      "\n",
      "See the caveats in the documentation: https://pandas.pydata.org/pandas-docs/stable/user_guide/indexing.html#returning-a-view-versus-a-copy\n",
      "  df['일계도'][i] = df['종가'][i] - df['종가'][i-1]\n"
     ]
    },
    {
     "data": {
      "text/html": [
       "<div>\n",
       "<style scoped>\n",
       "    .dataframe tbody tr th:only-of-type {\n",
       "        vertical-align: middle;\n",
       "    }\n",
       "\n",
       "    .dataframe tbody tr th {\n",
       "        vertical-align: top;\n",
       "    }\n",
       "\n",
       "    .dataframe thead th {\n",
       "        text-align: right;\n",
       "    }\n",
       "</style>\n",
       "<table border=\"1\" class=\"dataframe\">\n",
       "  <thead>\n",
       "    <tr style=\"text-align: right;\">\n",
       "      <th></th>\n",
       "      <th>종가</th>\n",
       "      <th>일계도</th>\n",
       "      <th>이계도</th>\n",
       "      <th>일계도부호</th>\n",
       "      <th>이계도부호</th>\n",
       "      <th>일계도비율</th>\n",
       "    </tr>\n",
       "    <tr>\n",
       "      <th>날짜</th>\n",
       "      <th></th>\n",
       "      <th></th>\n",
       "      <th></th>\n",
       "      <th></th>\n",
       "      <th></th>\n",
       "      <th></th>\n",
       "    </tr>\n",
       "  </thead>\n",
       "  <tbody>\n",
       "    <tr>\n",
       "      <th>2016-01-04</th>\n",
       "      <td>23142</td>\n",
       "      <td>0</td>\n",
       "      <td>NaN</td>\n",
       "      <td>NaN</td>\n",
       "      <td>NaN</td>\n",
       "      <td>NaN</td>\n",
       "    </tr>\n",
       "    <tr>\n",
       "      <th>2016-01-05</th>\n",
       "      <td>23503</td>\n",
       "      <td>361</td>\n",
       "      <td>NaN</td>\n",
       "      <td>NaN</td>\n",
       "      <td>NaN</td>\n",
       "      <td>NaN</td>\n",
       "    </tr>\n",
       "    <tr>\n",
       "      <th>2016-01-06</th>\n",
       "      <td>23905</td>\n",
       "      <td>402</td>\n",
       "      <td>NaN</td>\n",
       "      <td>NaN</td>\n",
       "      <td>NaN</td>\n",
       "      <td>NaN</td>\n",
       "    </tr>\n",
       "    <tr>\n",
       "      <th>2016-01-07</th>\n",
       "      <td>23544</td>\n",
       "      <td>-361</td>\n",
       "      <td>NaN</td>\n",
       "      <td>NaN</td>\n",
       "      <td>NaN</td>\n",
       "      <td>NaN</td>\n",
       "    </tr>\n",
       "    <tr>\n",
       "      <th>2016-01-08</th>\n",
       "      <td>23122</td>\n",
       "      <td>-422</td>\n",
       "      <td>NaN</td>\n",
       "      <td>NaN</td>\n",
       "      <td>NaN</td>\n",
       "      <td>NaN</td>\n",
       "    </tr>\n",
       "  </tbody>\n",
       "</table>\n",
       "</div>"
      ],
      "text/plain": [
       "               종가   일계도  이계도 일계도부호 이계도부호 일계도비율\n",
       "날짜                                            \n",
       "2016-01-04  23142     0  NaN   NaN   NaN   NaN\n",
       "2016-01-05  23503   361  NaN   NaN   NaN   NaN\n",
       "2016-01-06  23905   402  NaN   NaN   NaN   NaN\n",
       "2016-01-07  23544  -361  NaN   NaN   NaN   NaN\n",
       "2016-01-08  23122  -422  NaN   NaN   NaN   NaN"
      ]
     },
     "execution_count": 838,
     "metadata": {},
     "output_type": "execute_result"
    }
   ],
   "source": [
    "for i in range(1, len(seri)):\n",
    "    df['일계도'][i] = df['종가'][i] - df['종가'][i-1]\n",
    "df.head()"
   ]
  },
  {
   "cell_type": "code",
   "execution_count": 839,
   "metadata": {},
   "outputs": [
    {
     "name": "stderr",
     "output_type": "stream",
     "text": [
      "C:\\Users\\ghdak\\AppData\\Local\\Temp/ipykernel_8988/3300555474.py:1: SettingWithCopyWarning: \n",
      "A value is trying to be set on a copy of a slice from a DataFrame\n",
      "\n",
      "See the caveats in the documentation: https://pandas.pydata.org/pandas-docs/stable/user_guide/indexing.html#returning-a-view-versus-a-copy\n",
      "  df['이계도'][0] = 0\n",
      "C:\\Users\\ghdak\\AppData\\Local\\Temp/ipykernel_8988/3300555474.py:3: SettingWithCopyWarning: \n",
      "A value is trying to be set on a copy of a slice from a DataFrame\n",
      "\n",
      "See the caveats in the documentation: https://pandas.pydata.org/pandas-docs/stable/user_guide/indexing.html#returning-a-view-versus-a-copy\n",
      "  df['이계도'][i] = df['일계도'][i] - df['일계도'][i-1]\n"
     ]
    },
    {
     "data": {
      "text/html": [
       "<div>\n",
       "<style scoped>\n",
       "    .dataframe tbody tr th:only-of-type {\n",
       "        vertical-align: middle;\n",
       "    }\n",
       "\n",
       "    .dataframe tbody tr th {\n",
       "        vertical-align: top;\n",
       "    }\n",
       "\n",
       "    .dataframe thead th {\n",
       "        text-align: right;\n",
       "    }\n",
       "</style>\n",
       "<table border=\"1\" class=\"dataframe\">\n",
       "  <thead>\n",
       "    <tr style=\"text-align: right;\">\n",
       "      <th></th>\n",
       "      <th>종가</th>\n",
       "      <th>일계도</th>\n",
       "      <th>이계도</th>\n",
       "      <th>일계도부호</th>\n",
       "      <th>이계도부호</th>\n",
       "      <th>일계도비율</th>\n",
       "    </tr>\n",
       "    <tr>\n",
       "      <th>날짜</th>\n",
       "      <th></th>\n",
       "      <th></th>\n",
       "      <th></th>\n",
       "      <th></th>\n",
       "      <th></th>\n",
       "      <th></th>\n",
       "    </tr>\n",
       "  </thead>\n",
       "  <tbody>\n",
       "    <tr>\n",
       "      <th>2016-01-04</th>\n",
       "      <td>23142</td>\n",
       "      <td>0</td>\n",
       "      <td>0</td>\n",
       "      <td>NaN</td>\n",
       "      <td>NaN</td>\n",
       "      <td>NaN</td>\n",
       "    </tr>\n",
       "    <tr>\n",
       "      <th>2016-01-05</th>\n",
       "      <td>23503</td>\n",
       "      <td>361</td>\n",
       "      <td>361</td>\n",
       "      <td>NaN</td>\n",
       "      <td>NaN</td>\n",
       "      <td>NaN</td>\n",
       "    </tr>\n",
       "    <tr>\n",
       "      <th>2016-01-06</th>\n",
       "      <td>23905</td>\n",
       "      <td>402</td>\n",
       "      <td>41</td>\n",
       "      <td>NaN</td>\n",
       "      <td>NaN</td>\n",
       "      <td>NaN</td>\n",
       "    </tr>\n",
       "    <tr>\n",
       "      <th>2016-01-07</th>\n",
       "      <td>23544</td>\n",
       "      <td>-361</td>\n",
       "      <td>-763</td>\n",
       "      <td>NaN</td>\n",
       "      <td>NaN</td>\n",
       "      <td>NaN</td>\n",
       "    </tr>\n",
       "    <tr>\n",
       "      <th>2016-01-08</th>\n",
       "      <td>23122</td>\n",
       "      <td>-422</td>\n",
       "      <td>-61</td>\n",
       "      <td>NaN</td>\n",
       "      <td>NaN</td>\n",
       "      <td>NaN</td>\n",
       "    </tr>\n",
       "  </tbody>\n",
       "</table>\n",
       "</div>"
      ],
      "text/plain": [
       "               종가   일계도   이계도 일계도부호 이계도부호 일계도비율\n",
       "날짜                                             \n",
       "2016-01-04  23142     0     0   NaN   NaN   NaN\n",
       "2016-01-05  23503   361   361   NaN   NaN   NaN\n",
       "2016-01-06  23905   402    41   NaN   NaN   NaN\n",
       "2016-01-07  23544  -361  -763   NaN   NaN   NaN\n",
       "2016-01-08  23122  -422   -61   NaN   NaN   NaN"
      ]
     },
     "execution_count": 839,
     "metadata": {},
     "output_type": "execute_result"
    }
   ],
   "source": [
    "df['이계도'][0] = 0\n",
    "for i in range(1, len(seri)):\n",
    "    df['이계도'][i] = df['일계도'][i] - df['일계도'][i-1]\n",
    "df.head()"
   ]
  },
  {
   "cell_type": "code",
   "execution_count": 840,
   "metadata": {},
   "outputs": [
    {
     "name": "stderr",
     "output_type": "stream",
     "text": [
      "C:\\Users\\ghdak\\AppData\\Local\\Temp/ipykernel_8988/2770070508.py:3: SettingWithCopyWarning: \n",
      "A value is trying to be set on a copy of a slice from a DataFrame\n",
      "\n",
      "See the caveats in the documentation: https://pandas.pydata.org/pandas-docs/stable/user_guide/indexing.html#returning-a-view-versus-a-copy\n",
      "  df['일계도부호'][i] = 1\n",
      "C:\\Users\\ghdak\\AppData\\Local\\Temp/ipykernel_8988/2770070508.py:5: SettingWithCopyWarning: \n",
      "A value is trying to be set on a copy of a slice from a DataFrame\n",
      "\n",
      "See the caveats in the documentation: https://pandas.pydata.org/pandas-docs/stable/user_guide/indexing.html#returning-a-view-versus-a-copy\n",
      "  df['일계도부호'][i] = 0\n"
     ]
    }
   ],
   "source": [
    "for i in range(len(df)):\n",
    "    if df['일계도'][i] >= 0:\n",
    "        df['일계도부호'][i] = 1\n",
    "    else:\n",
    "        df['일계도부호'][i] = 0"
   ]
  },
  {
   "cell_type": "code",
   "execution_count": 841,
   "metadata": {},
   "outputs": [
    {
     "name": "stderr",
     "output_type": "stream",
     "text": [
      "C:\\Users\\ghdak\\AppData\\Local\\Temp/ipykernel_8988/3065516705.py:3: SettingWithCopyWarning: \n",
      "A value is trying to be set on a copy of a slice from a DataFrame\n",
      "\n",
      "See the caveats in the documentation: https://pandas.pydata.org/pandas-docs/stable/user_guide/indexing.html#returning-a-view-versus-a-copy\n",
      "  df['이계도부호'][i] = 1\n",
      "C:\\Users\\ghdak\\AppData\\Local\\Temp/ipykernel_8988/3065516705.py:5: SettingWithCopyWarning: \n",
      "A value is trying to be set on a copy of a slice from a DataFrame\n",
      "\n",
      "See the caveats in the documentation: https://pandas.pydata.org/pandas-docs/stable/user_guide/indexing.html#returning-a-view-versus-a-copy\n",
      "  df['이계도부호'][i] = 0\n"
     ]
    }
   ],
   "source": [
    "for i in range(len(df)):\n",
    "    if df['이계도'][i] >= 0:\n",
    "        df['이계도부호'][i] = 1\n",
    "    else:\n",
    "        df['이계도부호'][i] = 0"
   ]
  },
  {
   "cell_type": "code",
   "execution_count": 842,
   "metadata": {},
   "outputs": [
    {
     "name": "stderr",
     "output_type": "stream",
     "text": [
      "C:\\Users\\ghdak\\AppData\\Local\\Temp/ipykernel_8988/2556911977.py:1: SettingWithCopyWarning: \n",
      "A value is trying to be set on a copy of a slice from a DataFrame\n",
      "\n",
      "See the caveats in the documentation: https://pandas.pydata.org/pandas-docs/stable/user_guide/indexing.html#returning-a-view-versus-a-copy\n",
      "  df['일계도비율'][0] = 0\n",
      "C:\\Users\\ghdak\\AppData\\Local\\Temp/ipykernel_8988/2556911977.py:3: SettingWithCopyWarning: \n",
      "A value is trying to be set on a copy of a slice from a DataFrame\n",
      "\n",
      "See the caveats in the documentation: https://pandas.pydata.org/pandas-docs/stable/user_guide/indexing.html#returning-a-view-versus-a-copy\n",
      "  df['일계도비율'][i] = (1-(df['종가'][i-1] / df['종가'][i]))*100\n"
     ]
    },
    {
     "data": {
      "text/html": [
       "<div>\n",
       "<style scoped>\n",
       "    .dataframe tbody tr th:only-of-type {\n",
       "        vertical-align: middle;\n",
       "    }\n",
       "\n",
       "    .dataframe tbody tr th {\n",
       "        vertical-align: top;\n",
       "    }\n",
       "\n",
       "    .dataframe thead th {\n",
       "        text-align: right;\n",
       "    }\n",
       "</style>\n",
       "<table border=\"1\" class=\"dataframe\">\n",
       "  <thead>\n",
       "    <tr style=\"text-align: right;\">\n",
       "      <th></th>\n",
       "      <th>종가</th>\n",
       "      <th>일계도</th>\n",
       "      <th>이계도</th>\n",
       "      <th>일계도부호</th>\n",
       "      <th>이계도부호</th>\n",
       "      <th>일계도비율</th>\n",
       "    </tr>\n",
       "    <tr>\n",
       "      <th>날짜</th>\n",
       "      <th></th>\n",
       "      <th></th>\n",
       "      <th></th>\n",
       "      <th></th>\n",
       "      <th></th>\n",
       "      <th></th>\n",
       "    </tr>\n",
       "  </thead>\n",
       "  <tbody>\n",
       "    <tr>\n",
       "      <th>2016-01-04</th>\n",
       "      <td>23142</td>\n",
       "      <td>0</td>\n",
       "      <td>0</td>\n",
       "      <td>1</td>\n",
       "      <td>1</td>\n",
       "      <td>0</td>\n",
       "    </tr>\n",
       "    <tr>\n",
       "      <th>2016-01-05</th>\n",
       "      <td>23503</td>\n",
       "      <td>361</td>\n",
       "      <td>361</td>\n",
       "      <td>1</td>\n",
       "      <td>1</td>\n",
       "      <td>1.535974</td>\n",
       "    </tr>\n",
       "    <tr>\n",
       "      <th>2016-01-06</th>\n",
       "      <td>23905</td>\n",
       "      <td>402</td>\n",
       "      <td>41</td>\n",
       "      <td>1</td>\n",
       "      <td>1</td>\n",
       "      <td>1.681657</td>\n",
       "    </tr>\n",
       "    <tr>\n",
       "      <th>2016-01-07</th>\n",
       "      <td>23544</td>\n",
       "      <td>-361</td>\n",
       "      <td>-763</td>\n",
       "      <td>0</td>\n",
       "      <td>0</td>\n",
       "      <td>-1.533299</td>\n",
       "    </tr>\n",
       "    <tr>\n",
       "      <th>2016-01-08</th>\n",
       "      <td>23122</td>\n",
       "      <td>-422</td>\n",
       "      <td>-61</td>\n",
       "      <td>0</td>\n",
       "      <td>0</td>\n",
       "      <td>-1.825102</td>\n",
       "    </tr>\n",
       "  </tbody>\n",
       "</table>\n",
       "</div>"
      ],
      "text/plain": [
       "               종가   일계도   이계도 일계도부호 이계도부호     일계도비율\n",
       "날짜                                                 \n",
       "2016-01-04  23142     0     0     1     1         0\n",
       "2016-01-05  23503   361   361     1     1  1.535974\n",
       "2016-01-06  23905   402    41     1     1  1.681657\n",
       "2016-01-07  23544  -361  -763     0     0 -1.533299\n",
       "2016-01-08  23122  -422   -61     0     0 -1.825102"
      ]
     },
     "execution_count": 842,
     "metadata": {},
     "output_type": "execute_result"
    }
   ],
   "source": [
    "df['일계도비율'][0] = 0\n",
    "for i in range(1, len(seri)):\n",
    "    df['일계도비율'][i] = (1-(df['종가'][i-1] / df['종가'][i]))*100\n",
    "df.head()"
   ]
  },
  {
   "cell_type": "code",
   "execution_count": 843,
   "metadata": {},
   "outputs": [
    {
     "data": {
      "text/plain": [
       "[<matplotlib.lines.Line2D at 0x1bdc12d4ca0>]"
      ]
     },
     "execution_count": 843,
     "metadata": {},
     "output_type": "execute_result"
    },
    {
     "data": {
      "image/png": "[encoded data removed]",
      "text/plain": [
       "<Figure size 432x288 with 1 Axes>"
      ]
     },
     "metadata": {
      "needs_background": "light"
     },
     "output_type": "display_data"
    }
   ],
   "source": [
    "plt.plot(df['종가'][:200])"
   ]
  },
  {
   "cell_type": "code",
   "execution_count": 844,
   "metadata": {},
   "outputs": [
    {
     "data": {
      "text/plain": [
       "[<matplotlib.lines.Line2D at 0x1bdb8c17280>]"
      ]
     },
     "execution_count": 844,
     "metadata": {},
     "output_type": "execute_result"
    },
    {
     "data": {
      "image/png": "[encoded data removed]",
      "text/plain": [
       "<Figure size 432x288 with 1 Axes>"
      ]
     },
     "metadata": {
      "needs_background": "light"
     },
     "output_type": "display_data"
    }
   ],
   "source": [
    "plt.plot(df['일계도'][:20])"
   ]
  },
  {
   "cell_type": "code",
   "execution_count": 845,
   "metadata": {},
   "outputs": [
    {
     "data": {
      "text/plain": [
       "[<matplotlib.lines.Line2D at 0x1bdc15711c0>]"
      ]
     },
     "execution_count": 845,
     "metadata": {},
     "output_type": "execute_result"
    },
    {
     "data": {
      "image/png": "[encoded data removed]",
      "text/plain": [
       "<Figure size 432x288 with 1 Axes>"
      ]
     },
     "metadata": {
      "needs_background": "light"
     },
     "output_type": "display_data"
    }
   ],
   "source": [
    "plt.plot(df['이계도'][:20])"
   ]
  },
  {
   "cell_type": "code",
   "execution_count": 846,
   "metadata": {},
   "outputs": [
    {
     "data": {
      "text/plain": [
       "[<matplotlib.lines.Line2D at 0x1bdbfe1cb80>]"
      ]
     },
     "execution_count": 846,
     "metadata": {},
     "output_type": "execute_result"
    },
    {
     "data": {
      "image/png": "[encoded data removed]",
      "text/plain": [
       "<Figure size 432x288 with 1 Axes>"
      ]
     },
     "metadata": {
      "needs_background": "light"
     },
     "output_type": "display_data"
    }
   ],
   "source": [
    "plt.plot(df['일계도비율'][:150])"
   ]
  },
  {
   "cell_type": "code",
   "execution_count": 847,
   "metadata": {},
   "outputs": [],
   "source": [
    "import pickle\n",
    "# 선형회귀 모델\n",
    "from sklearn import linear_model\n",
    "# 학습 데이터와 테스트 데이터를 나눠주는 모듈\n",
    "from sklearn.model_selection import train_test_split\n",
    "# 모델을 평가해주는 모듈\n",
    "from sklearn.metrics import mean_absolute_error"
   ]
  },
  {
   "cell_type": "code",
   "execution_count": 848,
   "metadata": {},
   "outputs": [],
   "source": [
    "df_diff1 = df['일계도']"
   ]
  },
  {
   "cell_type": "code",
   "execution_count": 849,
   "metadata": {},
   "outputs": [],
   "source": [
    "df_diff1 = np.array(df_diff1)"
   ]
  },
  {
   "cell_type": "code",
   "execution_count": 850,
   "metadata": {},
   "outputs": [
    {
     "data": {
      "text/plain": [
       "(1435,)"
      ]
     },
     "execution_count": 850,
     "metadata": {},
     "output_type": "execute_result"
    }
   ],
   "source": [
    "df_diff1.shape"
   ]
  },
  {
   "cell_type": "code",
   "execution_count": 851,
   "metadata": {},
   "outputs": [],
   "source": [
    "data_x = [df_diff1[i:i+50] for i in range(1350)]\n",
    "data_y = [df_diff1[i+51] for i in range(1350)]"
   ]
  },
  {
   "cell_type": "code",
   "execution_count": 852,
   "metadata": {},
   "outputs": [],
   "source": [
    "train_x, test_x, train_y, test_y = train_test_split(\n",
    "    data_x, data_y, test_size=0.2, random_state=5)"
   ]
  },
  {
   "cell_type": "code",
   "execution_count": 853,
   "metadata": {},
   "outputs": [
    {
     "data": {
      "text/plain": [
       "1080"
      ]
     },
     "execution_count": 853,
     "metadata": {},
     "output_type": "execute_result"
    }
   ],
   "source": [
    "len(train_x)"
   ]
  },
  {
   "cell_type": "code",
   "execution_count": 854,
   "metadata": {},
   "outputs": [
    {
     "data": {
      "text/plain": [
       "[8500, 301, -702, 5519, 121]"
      ]
     },
     "execution_count": 854,
     "metadata": {},
     "output_type": "execute_result"
    }
   ],
   "source": [
    "train_y[:5]"
   ]
  },
  {
   "cell_type": "code",
   "execution_count": 855,
   "metadata": {},
   "outputs": [
    {
     "data": {
      "text/plain": [
       "[array([-3412, 100, 803, 3312, -1506, 101, 401, 803, 5720, 2509, 2409,\n",
       "        -1004, -1605, 602, -2710, -702, -2710, 2208, 702, 703, 401, -2308,\n",
       "        -2208, -3412, -2609, 3813, 3814, 401, -401, 0, 1204, 2609, -1103,\n",
       "        301, -703, 301, -1405, 2007, -1505, 1204, 903, 201, 402, 200, 8430,\n",
       "        -401, 1204, 2008, 0, 0], dtype=object),\n",
       " array([-401, -20, -141, -40, 502, -101, -261, -261, 322, 40, 180, 241,\n",
       "        101, -141, -361, -241, 60, 121, -201, 60, 783, -261, 40, -281, 422,\n",
       "        -342, 161, 40, 422, 160, 60, -180, -201, 723, -161, 40, 121, 361,\n",
       "        -241, -201, 442, 281, 201, -201, 241, 120, -401, 281, 0, 0],\n",
       "       dtype=object)]"
      ]
     },
     "execution_count": 855,
     "metadata": {},
     "output_type": "execute_result"
    }
   ],
   "source": [
    "train_x[:2]"
   ]
  },
  {
   "cell_type": "code",
   "execution_count": 856,
   "metadata": {},
   "outputs": [],
   "source": [
    "# 3. 데이터 분석 : 선형 회귀 모델\n",
    "model = linear_model.LinearRegression()"
   ]
  },
  {
   "cell_type": "code",
   "execution_count": 857,
   "metadata": {},
   "outputs": [
    {
     "name": "stderr",
     "output_type": "stream",
     "text": [
      "C:\\Users\\ghdak\\anaconda3\\envs\\gpu_env\\lib\\site-packages\\sklearn\\utils\\validation.py:956: FutureWarning: Arrays of bytes/strings is being converted to decimal numbers if dtype='numeric'. This behavior is deprecated in 0.24 and will be removed in 1.1 (renaming of 0.26). Please convert your data to numeric values explicitly instead.\n",
      "  X = check_array(\n"
     ]
    },
    {
     "data": {
      "text/plain": [
       "LinearRegression()"
      ]
     },
     "execution_count": 857,
     "metadata": {},
     "output_type": "execute_result"
    }
   ],
   "source": [
    "model.fit(train_x, train_y)"
   ]
  },
  {
   "cell_type": "code",
   "execution_count": 858,
   "metadata": {},
   "outputs": [
    {
     "data": {
      "text/plain": [
       "[array([-903, 803, -201, -502, 201, -602, -401, 2509, -703, 301, -702,\n",
       "        -201, 2308, 1004, 1304, -602, 502, 1405, 6323, 3813, 903, -602,\n",
       "        -602, -2810, -2007, 2509, 803, 2007, 1806, 2108, -2509, 803, -1405,\n",
       "        -3412, 100, 803, 3312, -1506, 101, 401, 803, 5720, 2509, 2409,\n",
       "        -1004, -1605, 602, -2710, -702, -2710], dtype=object),\n",
       " array([-802, 301, 501, -100, -602, 0, -201, 101, -201, -803, 0, -803,\n",
       "        -100, 200, 703, 702, 0, 302, 200, 0, -401, -502, -401, -201, 301,\n",
       "        -201, 1405, 0, -401, -201, 100, 603, -603, 502, 602, -100, -401,\n",
       "        602, -101, -100, 201, 100, -301, -502, -200, 200, 201, 100, 301,\n",
       "        201], dtype=object)]"
      ]
     },
     "execution_count": 858,
     "metadata": {},
     "output_type": "execute_result"
    }
   ],
   "source": [
    "test_x[:2]"
   ]
  },
  {
   "cell_type": "code",
   "execution_count": 859,
   "metadata": {},
   "outputs": [
    {
     "data": {
      "text/plain": [
       "[702, 401, 101, 101, -402]"
      ]
     },
     "execution_count": 859,
     "metadata": {},
     "output_type": "execute_result"
    }
   ],
   "source": [
    "test_y[:5]"
   ]
  },
  {
   "cell_type": "code",
   "execution_count": 860,
   "metadata": {},
   "outputs": [
    {
     "name": "stderr",
     "output_type": "stream",
     "text": [
      "C:\\Users\\ghdak\\anaconda3\\envs\\gpu_env\\lib\\site-packages\\sklearn\\base.py:561: FutureWarning: Arrays of bytes/strings is being converted to decimal numbers if dtype='numeric'. This behavior is deprecated in 0.24 and will be removed in 1.1 (renaming of 0.26). Please convert your data to numeric values explicitly instead.\n",
      "  X = check_array(X, **check_params)\n"
     ]
    },
    {
     "data": {
      "text/plain": [
       "array([  471.04199043,  -268.4495537 ,   -11.57699917,   -56.50909985,\n",
       "         476.06287313,  -748.61822245,  -127.49866455,    -9.45410346,\n",
       "       -1217.43768893,   138.55859475])"
      ]
     },
     "execution_count": 860,
     "metadata": {},
     "output_type": "execute_result"
    }
   ],
   "source": [
    "pred_y = model.predict(test_x)\n",
    "pred_y[:10]"
   ]
  },
  {
   "cell_type": "code",
   "execution_count": 861,
   "metadata": {},
   "outputs": [],
   "source": [
    "trans_pred = pred_y.copy()\n",
    "# for i in range(len(pred_y)):\n",
    "#     if pred_y[i] < 0.5:\n",
    "#         trans_pred[i] = 0\n",
    "#     else:\n",
    "#         trans_pred[i] = 1"
   ]
  },
  {
   "cell_type": "code",
   "execution_count": 862,
   "metadata": {},
   "outputs": [],
   "source": [
    "from sklearn.metrics import mean_squared_error"
   ]
  },
  {
   "cell_type": "code",
   "execution_count": 863,
   "metadata": {},
   "outputs": [
    {
     "data": {
      "text/plain": [
       "(831.95, 2197673.21)"
      ]
     },
     "execution_count": 863,
     "metadata": {},
     "output_type": "execute_result"
    }
   ],
   "source": [
    "mae = mean_absolute_error(test_y, trans_pred)\n",
    "mse = mean_squared_error(test_y, trans_pred)\n",
    "round(mae, 2), round(mse, 2)"
   ]
  },
  {
   "cell_type": "code",
   "execution_count": 864,
   "metadata": {},
   "outputs": [
    {
     "data": {
      "image/png": "[encoded data removed]",
      "text/plain": [
       "<Figure size 432x288 with 1 Axes>"
      ]
     },
     "metadata": {
      "needs_background": "light"
     },
     "output_type": "display_data"
    }
   ],
   "source": [
    "plt.plot(test_y[100:300])\n",
    "plt.plot(trans_pred[100:300])\n",
    "plt.legend(['test','pred'])\n",
    "plt.show()"
   ]
  },
  {
   "cell_type": "code",
   "execution_count": 865,
   "metadata": {},
   "outputs": [
    {
     "data": {
      "image/png": "[encoded data removed]",
      "text/plain": [
       "<Figure size 432x288 with 1 Axes>"
      ]
     },
     "metadata": {
      "needs_background": "light"
     },
     "output_type": "display_data"
    }
   ],
   "source": [
    "plt.plot(np.array(test_y[100:300]) - np.array(trans_pred[100:300]))\n",
    "plt.legend(['price_diff'])\n",
    "plt.show()"
   ]
  },
  {
   "cell_type": "code",
   "execution_count": 866,
   "metadata": {},
   "outputs": [
    {
     "data": {
      "text/html": [
       "<div>\n",
       "<style scoped>\n",
       "    .dataframe tbody tr th:only-of-type {\n",
       "        vertical-align: middle;\n",
       "    }\n",
       "\n",
       "    .dataframe tbody tr th {\n",
       "        vertical-align: top;\n",
       "    }\n",
       "\n",
       "    .dataframe thead th {\n",
       "        text-align: right;\n",
       "    }\n",
       "</style>\n",
       "<table border=\"1\" class=\"dataframe\">\n",
       "  <thead>\n",
       "    <tr style=\"text-align: right;\">\n",
       "      <th></th>\n",
       "      <th>종가</th>\n",
       "      <th>일계도</th>\n",
       "      <th>이계도</th>\n",
       "      <th>일계도부호</th>\n",
       "      <th>이계도부호</th>\n",
       "      <th>일계도비율</th>\n",
       "    </tr>\n",
       "    <tr>\n",
       "      <th>날짜</th>\n",
       "      <th></th>\n",
       "      <th></th>\n",
       "      <th></th>\n",
       "      <th></th>\n",
       "      <th></th>\n",
       "      <th></th>\n",
       "    </tr>\n",
       "  </thead>\n",
       "  <tbody>\n",
       "    <tr>\n",
       "      <th>2016-01-18</th>\n",
       "      <td>23323</td>\n",
       "      <td>-502</td>\n",
       "      <td>-462</td>\n",
       "      <td>0</td>\n",
       "      <td>0</td>\n",
       "      <td>-2.152382</td>\n",
       "    </tr>\n",
       "    <tr>\n",
       "      <th>2016-01-19</th>\n",
       "      <td>22901</td>\n",
       "      <td>-422</td>\n",
       "      <td>80</td>\n",
       "      <td>0</td>\n",
       "      <td>1</td>\n",
       "      <td>-1.842714</td>\n",
       "    </tr>\n",
       "    <tr>\n",
       "      <th>2016-01-20</th>\n",
       "      <td>22500</td>\n",
       "      <td>-401</td>\n",
       "      <td>21</td>\n",
       "      <td>0</td>\n",
       "      <td>1</td>\n",
       "      <td>-1.782222</td>\n",
       "    </tr>\n",
       "    <tr>\n",
       "      <th>2016-01-21</th>\n",
       "      <td>22279</td>\n",
       "      <td>-221</td>\n",
       "      <td>180</td>\n",
       "      <td>0</td>\n",
       "      <td>1</td>\n",
       "      <td>-0.991966</td>\n",
       "    </tr>\n",
       "    <tr>\n",
       "      <th>2016-01-22</th>\n",
       "      <td>22640</td>\n",
       "      <td>361</td>\n",
       "      <td>582</td>\n",
       "      <td>1</td>\n",
       "      <td>1</td>\n",
       "      <td>1.594523</td>\n",
       "    </tr>\n",
       "  </tbody>\n",
       "</table>\n",
       "</div>"
      ],
      "text/plain": [
       "               종가   일계도   이계도 일계도부호 이계도부호     일계도비율\n",
       "날짜                                                 \n",
       "2016-01-18  23323  -502  -462     0     0 -2.152382\n",
       "2016-01-19  22901  -422    80     0     1 -1.842714\n",
       "2016-01-20  22500  -401    21     0     1 -1.782222\n",
       "2016-01-21  22279  -221   180     0     1 -0.991966\n",
       "2016-01-22  22640   361   582     1     1  1.594523"
      ]
     },
     "execution_count": 866,
     "metadata": {},
     "output_type": "execute_result"
    }
   ],
   "source": [
    "df[10:15]"
   ]
  },
  {
   "cell_type": "code",
   "execution_count": 917,
   "metadata": {},
   "outputs": [
    {
     "data": {
      "text/plain": [
       "1.88"
      ]
     },
     "execution_count": 917,
     "metadata": {},
     "output_type": "execute_result"
    }
   ],
   "source": [
    "df_diff1 = df['일계도비율']\n",
    "df_diff1 = np.array(df_diff1)\n",
    "data_x = np.array([np.array(df_diff1[i:i+20]) for i in range(1350)])\n",
    "data_y = np.array([df_diff1[i+21] for i in range(1350)])\n",
    "data_x1 = data_x.copy()\n",
    "data_y1 = data_y.copy()\n",
    "\n",
    "for i in range(len(data_x)):\n",
    "    for j in range(len(data_x1[i])):\n",
    "        data_x1[i][j] =  data_x[i][j]*(i+1)/20\n",
    "\n",
    "for i in range(len(data_y)):\n",
    "    data_y1[i] = data_y[i] / 10 \n",
    "\n",
    "train_x, test_x, train_y, test_y = train_test_split(\n",
    "    data_x, data_y, test_size=0.3, random_state=3)\n",
    "\n",
    "model = linear_model.LinearRegression()\n",
    "model.fit(train_x, train_y)\n",
    "pred_y = model.predict(test_x) * 5\n",
    "trans_pred = np.array(pred_y.copy())\n",
    "\n",
    "mae = mean_absolute_error(test_y, trans_pred)  # mae=mse (output=0,1)\n",
    "\n",
    "round(mae, 2)"
   ]
  },
  {
   "cell_type": "code",
   "execution_count": 918,
   "metadata": {},
   "outputs": [
    {
     "data": {
      "text/plain": [
       "array([ 3.83553254e-01,  2.03763775e-01,  3.96476101e-01, -9.58515441e-01,\n",
       "        1.46986960e+00,  3.50322456e+00,  1.02890849e-01,  8.20279896e-01,\n",
       "        1.52835396e+00, -1.39850003e+00, -3.06752446e-01, -2.22044671e-01,\n",
       "        1.45861760e-03, -3.89101190e-01,  7.90526295e-01,  1.59344221e-02,\n",
       "        1.62198406e+00, -4.76696261e-01, -1.81022371e-01,  1.59217764e+00,\n",
       "        3.86020890e+00,  1.98880459e+00,  1.08421398e+00,  2.69617453e-01,\n",
       "        2.40868122e+00,  8.00565185e-01,  3.63426640e+00,  2.04896242e+00,\n",
       "        6.65397998e-01,  1.00021412e+00, -6.14216780e-01,  7.15136792e-01,\n",
       "        7.73143961e-01, -3.83415566e-01, -1.79340357e+00,  6.05314311e-02,\n",
       "        1.71933765e+00,  1.40026302e+00,  1.25969894e+00,  1.38359866e+00,\n",
       "        1.03720799e+00,  8.58637857e-01,  7.99143725e-01, -1.55972006e+00,\n",
       "       -7.14476715e-01,  1.09533693e+00, -5.97974558e-01, -7.58951211e-02,\n",
       "        1.00389950e+00,  2.18925339e-01,  5.84933906e-01,  4.41064305e-01,\n",
       "        6.06062996e-01,  3.60773069e-02,  1.40496290e+00,  1.63728464e+00,\n",
       "        1.00364558e+00,  1.28078208e+00,  2.00306760e+00,  1.77982534e+00,\n",
       "        1.71717350e+00, -1.16655725e+00,  2.28429908e+00,  4.02083111e-01,\n",
       "        2.36621508e+00,  1.30137914e+00, -4.21123217e-01, -2.00417767e+00,\n",
       "       -3.76069687e-01,  3.02527741e-01, -6.25178302e-01,  2.46041695e+00,\n",
       "        1.55293660e+00,  1.54387933e+00,  3.58497729e+00,  5.21349999e-01,\n",
       "        2.01988928e+00,  4.54016048e-01, -6.43591081e-01,  1.37295588e+00,\n",
       "        9.34882721e-01,  2.05611659e+00,  1.35294622e+00, -1.21166230e-01,\n",
       "        8.19372053e-01,  8.65521264e-01,  1.60339015e+00,  1.19272013e+00,\n",
       "        1.63117651e+00, -1.33494968e-01,  2.77998613e+00,  1.20821319e+00,\n",
       "       -3.40521125e-01,  1.62042725e+00, -4.56739872e-02,  1.77918339e+00,\n",
       "        9.42443453e-02, -9.65097519e-01, -4.55105476e-01, -1.72537254e-01,\n",
       "       -9.71079397e-01,  6.52220869e-02,  1.56205912e+00,  1.15598488e+00,\n",
       "        1.54727374e+00,  1.98720219e+00, -1.80030525e-01,  2.44078453e+00,\n",
       "        1.33338600e+00,  4.11979167e+00,  5.24521486e-01,  1.59490995e+00,\n",
       "       -4.15049685e-01,  1.27942305e+00,  1.06086135e+00,  1.06674436e+00,\n",
       "        8.54580212e-01,  1.42269616e+00,  1.60759913e+00, -9.67404112e-01,\n",
       "        2.18930169e+00,  2.75703442e-01, -1.59006729e-01,  6.62447810e-01,\n",
       "       -1.10773121e+00, -2.39075720e-01,  2.02450811e+00,  7.79116015e-01,\n",
       "       -1.30623269e+00, -3.16857007e-01, -4.09240705e-01,  1.15368919e+00,\n",
       "        1.88776078e+00, -2.19990277e+00,  2.14794015e+00, -1.50797909e+00,\n",
       "        5.18802559e-01,  1.06207488e+00,  5.32815893e-01, -1.13132194e-01,\n",
       "       -2.32268132e-01,  1.09056055e+00,  1.54429157e+00,  3.13258193e+00,\n",
       "       -1.36908290e+00, -1.16935301e-02, -3.82299115e-01,  9.86169922e-01,\n",
       "        6.60050506e-01,  7.48415144e-01,  9.10786648e-01,  2.42349258e+00,\n",
       "        1.09021058e+00,  2.17064428e-01, -1.96619984e+00,  4.76806867e-01,\n",
       "        1.99061649e+00,  6.81151795e-02,  3.05494297e-01, -8.43953484e-01,\n",
       "        6.18321630e-01,  1.21819516e+00,  4.53059038e-01, -1.07761136e+00,\n",
       "        1.92070054e+00,  2.39739696e+00, -5.85266828e-01,  1.12831102e+00,\n",
       "        1.60090432e+00, -4.96350563e-01,  3.25923498e+00,  4.38057111e-01,\n",
       "        1.02525252e+00,  2.32490738e+00,  1.59124666e-01, -2.55639567e-01,\n",
       "        6.84954815e-01,  1.36183961e-01, -4.66613371e-01,  1.39616711e+00,\n",
       "       -4.74916181e-01, -3.30471416e-01,  1.20571197e+00,  1.26154284e+00,\n",
       "        1.73546471e+00,  5.60057161e-01,  2.33229815e-01,  1.39222554e+00,\n",
       "        2.05151377e+00,  1.03304932e+00, -2.01102179e+00,  6.34039078e-01,\n",
       "        1.97300975e+00,  6.46071596e-01, -1.37723189e+00,  1.71798128e+00,\n",
       "        9.45597827e-01,  2.74461567e-01, -1.97954242e-01,  1.29789092e+00,\n",
       "        1.82374951e+00, -1.76402221e+00, -6.53158462e-02,  3.78314536e-01,\n",
       "       -3.12152161e-01,  1.22137631e+00,  5.45299462e-01,  9.26421150e-01,\n",
       "        3.22413376e-01, -2.50200425e+00,  8.78186353e-01,  2.01936813e+00,\n",
       "        1.80153413e+00,  4.13424927e+00,  1.18718352e-01,  3.05906638e+00,\n",
       "       -1.52331052e-01, -1.36526184e+00,  1.08818866e+00,  5.06769154e-02,\n",
       "        8.29484513e-01, -5.09546296e-01,  1.54680586e+00, -1.24008698e+00,\n",
       "        9.08616482e-01,  5.41119147e-01,  4.72675282e+00,  3.52857226e+00,\n",
       "        3.70622252e-01,  1.76376283e+00,  3.13672376e+00, -4.13402342e-01,\n",
       "       -3.51444210e-01,  5.78716564e-01, -8.77107549e-01,  1.81846699e+00,\n",
       "        2.11960515e+00,  6.03128741e-01,  2.46369028e+00,  4.82754201e-01,\n",
       "        1.17859559e+00,  3.28485477e-01,  2.28903586e+00, -6.99352769e-01,\n",
       "       -7.03631568e-01,  6.94192984e-01,  2.91041193e-02,  1.62642702e+00,\n",
       "        1.07536078e+00,  1.02898660e-02, -1.03920858e+00, -6.90406012e-01,\n",
       "       -2.15751949e+00,  1.37306052e+00,  1.67302963e+00, -1.88028076e+00,\n",
       "        2.92041905e+00, -1.16523226e-02,  5.46863287e-01, -1.69642211e+00,\n",
       "        1.29675236e+00,  1.05926626e-01,  3.38656820e-01,  1.54603151e+00,\n",
       "        2.34821621e+00,  5.02552034e-01,  1.39662934e+00,  2.59628622e+00,\n",
       "        9.03908972e-01, -5.78063959e-01,  1.79756454e+00,  5.22441030e-01,\n",
       "       -1.11946525e+00, -2.62335847e-01, -1.23418451e+00,  9.71649279e-01,\n",
       "        6.90285891e-01,  8.16716392e-01, -6.48299579e-01,  1.17607864e+00,\n",
       "        2.31184818e+00,  1.70761381e-01,  4.70456184e-01,  2.82944390e+00,\n",
       "       -7.73445628e-01,  8.31302390e-01,  1.30362563e+00,  1.92783128e-02,\n",
       "       -3.69052588e-02,  3.96647584e-01, -6.86027881e-01,  6.04623790e-01,\n",
       "       -6.34859964e-01,  2.64794662e-01,  1.00399391e+00, -2.53627166e-01,\n",
       "       -1.02840025e+00,  7.32023740e-01,  7.87959159e-01,  2.99342497e+00,\n",
       "       -1.07115516e-01,  1.40144054e+00,  1.27099791e+00, -7.50595351e-02,\n",
       "       -1.64362775e-01,  1.47182265e-01, -1.32846355e-01,  8.70887246e-01,\n",
       "        2.21274258e-01, -1.93123198e+00,  6.18938067e-02, -2.14009356e+00,\n",
       "        9.48296385e-02,  1.37212353e+00,  6.03074328e-01,  3.83099086e-01,\n",
       "       -1.23446918e-01, -6.00848849e-01,  5.72820998e-01, -5.61006788e-01,\n",
       "        2.75742229e+00,  7.93496515e-01, -5.83839206e-01,  9.63411490e-01,\n",
       "        5.75724333e-01, -1.49252647e+00, -2.35967455e-01,  3.72784441e-01,\n",
       "       -1.35149743e+00,  1.59882597e+00,  8.86020495e-01, -1.37105972e+00,\n",
       "        2.80970756e+00,  1.38861273e+00, -1.33487336e-01,  3.09023603e-02,\n",
       "       -1.15763509e+00,  3.39180115e+00, -1.24481184e+00,  2.31117641e+00,\n",
       "        1.92277817e-01,  1.22938664e+00,  1.17120060e+00, -2.57531230e-01,\n",
       "       -2.79494842e-01,  9.57035579e-01, -5.94353799e-01,  2.25140787e-01,\n",
       "        6.07510614e-01,  1.31266119e+00, -6.60896161e-01,  9.58244000e-01,\n",
       "       -7.34205122e-01,  3.34418317e-01, -1.07525668e+00,  4.93808728e-01,\n",
       "        1.64354433e+00,  1.00885926e+00, -9.69871885e-01, -1.42761000e+00,\n",
       "        1.30317235e+00, -5.34271615e-02, -6.35928255e-02,  1.26475273e+00,\n",
       "        1.54691761e-01, -4.95235726e-01,  4.28311022e+00,  3.36977065e-02,\n",
       "        5.09756985e-02,  8.75364077e-01,  7.95946299e-01,  2.41770990e+00,\n",
       "        1.59287235e+00, -9.61062348e-02,  7.24183400e-02,  2.75149932e+00,\n",
       "       -1.24470446e+00, -3.52920804e-01,  1.81733368e+00, -1.18550095e+00,\n",
       "        7.20117691e-01,  9.53277714e-01,  9.73668828e-01,  1.00507677e+00,\n",
       "        1.77158751e-02,  7.23919104e-01,  4.87424379e-02, -5.41810400e-02,\n",
       "        9.17713781e-01, -2.09130440e+00, -1.95059205e-01,  4.71772150e-01,\n",
       "        2.25506234e+00, -2.65976139e-01,  2.25760659e+00,  1.14748169e+00,\n",
       "        1.99535461e-01, -7.50626344e-01,  2.62479922e-01,  1.46540700e+00,\n",
       "        2.78270092e-02,  4.71548219e-01,  1.01667533e+00,  1.63214922e+00,\n",
       "        7.43449611e-01])"
      ]
     },
     "execution_count": 918,
     "metadata": {},
     "output_type": "execute_result"
    }
   ],
   "source": [
    "pred_y"
   ]
  },
  {
   "cell_type": "code",
   "execution_count": 919,
   "metadata": {},
   "outputs": [
    {
     "data": {
      "image/png": "[encoded data removed]",
      "text/plain": [
       "<Figure size 432x288 with 1 Axes>"
      ]
     },
     "metadata": {
      "needs_background": "light"
     },
     "output_type": "display_data"
    }
   ],
   "source": [
    "plt.plot(np.array(test_y[100:220]))\n",
    "plt.plot(np.array(trans_pred[100:220]))\n",
    "plt.legend(['test','pred'])\n",
    "plt.ylim([-10,10])\n",
    "plt.show()"
   ]
  },
  {
   "cell_type": "code",
   "execution_count": 880,
   "metadata": {},
   "outputs": [
    {
     "data": {
      "image/png": "[encoded data removed]",
      "text/plain": [
       "<Figure size 432x288 with 1 Axes>"
      ]
     },
     "metadata": {
      "needs_background": "light"
     },
     "output_type": "display_data"
    }
   ],
   "source": [
    "plt.plot(np.array(test_y[250:300]) - np.array(trans_pred[250:300])*4)\n",
    "plt.legend(['price_diff'])\n",
    "plt.ylim([-10,10])\n",
    "plt.show()"
   ]
  },
  {
   "cell_type": "code",
   "execution_count": 920,
   "metadata": {},
   "outputs": [
    {
     "data": {
      "text/plain": [
       "0.0"
      ]
     },
     "execution_count": 920,
     "metadata": {},
     "output_type": "execute_result"
    }
   ],
   "source": [
    "from statsmodels.tsa.stattools import coint\n",
    "score, pvalue, _ = coint(pred_y,test_y)\n",
    "pvalue"
   ]
  },
  {
   "cell_type": "code",
   "execution_count": null,
   "metadata": {},
   "outputs": [],
   "source": []
  }
 ],
 "metadata": {
  "interpreter": {
   "hash": "74c836ce15075f4ca5d2c1e02dd832651d0d5136e5f1c91f13c26045b791040c"
  },
  "kernelspec": {
   "display_name": "Python 3.9.7 64-bit ('gpu_env': conda)",
   "name": "python3"
  },
  "language_info": {
   "codemirror_mode": {
    "name": "ipython",
    "version": 3
   },
   "file_extension": ".py",
   "mimetype": "text/x-python",
   "name": "python",
   "nbconvert_exporter": "python",
   "pygments_lexer": "ipython3",
   "version": "3.9.7"
  },
  "orig_nbformat": 4
 },
 "nbformat": 4,
 "nbformat_minor": 2
}
