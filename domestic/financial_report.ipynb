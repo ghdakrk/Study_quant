{
 "cells": [
  {
   "cell_type": "code",
   "execution_count": null,
   "metadata": {},
   "outputs": [],
   "source": [
    "def get_ticker_per(date):\n",
    "    tickers = stock.get_market_ticker_list(date, market='ALL')\n",
    "\n",
    "    corp = []\n",
    "\n",
    "    for ticker in tickers:\n",
    "        corp_name = stock.get_market_ticker_name(ticker)\n",
    "        corp.append([ticker, corp_name])\n",
    "\n",
    "    df = pd.DataFrame(data=corp, columns=['종목코드', '종목명'])\n",
    "    df = df.set_index('종목코드')\n",
    "\n",
    "    df_f = stock.get_market_fundamental_by_ticker(date, market='ALL')\n",
    "\n",
    "    df = pd.merge(df, df_f, left_index=True, right_index=True) \n",
    "\n",
    "    return df \n",
    "\n",
    "\n",
    "    corp_info = get_ticker_per(datetime.now())"
   ]
  }
 ],
 "metadata": {
  "language_info": {
   "name": "python"
  },
  "orig_nbformat": 4
 },
 "nbformat": 4,
 "nbformat_minor": 2
}
