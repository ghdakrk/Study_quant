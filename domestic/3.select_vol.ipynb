{
 "cells": [
  {
   "cell_type": "code",
   "execution_count": 1,
   "metadata": {},
   "outputs": [],
   "source": [
    "from pykrx import stock\n",
    "from sklearn.preprocessing import MinMaxScaler\n",
    "import pandas as pd\n",
    "import matplotlib.pyplot as plt\n",
    "import matplotlib\n",
    "from matplotlib import font_manager, rc\n",
    "import platform\n",
    "import datetime\n",
    "if platform.system() == 'Windows':\n",
    "# 윈도우인 경우\n",
    "    font_name = font_manager.FontProperties(fname=\"c:/Windows/Fonts/malgun.ttf\").get_name()\n",
    "    rc('font', family=font_name)\n",
    "matplotlib.rcParams['axes.unicode_minus'] = False\n",
    "stock_list = pd.DataFrame({'종목코드':stock.get_market_ticker_list(market=\"ALL\")})\n",
    "stock_list['종목명'] = stock_list['종목코드'].map(lambda x: stock.get_market_ticker_name(x))\n",
    "\n",
    "kospi_list = pd.DataFrame({'종목코드':stock.get_market_ticker_list(market=\"ALL\")})\n",
    "kospi_list['종목명'] = stock_list['종목코드'].map(lambda x: stock.get_market_ticker_name(x))\n",
    "\n",
    "kosdaq_list = pd.DataFrame({'종목코드':stock.get_market_ticker_list(market=\"KOSDAQ\")})\n",
    "kosdaq_list['종목명'] = stock_list['종목코드'].map(lambda x: stock.get_market_ticker_name(x))\n"
   ]
  },
  {
   "cell_type": "code",
   "execution_count": 2,
   "metadata": {},
   "outputs": [
    {
     "data": {
      "text/plain": [
       "'20211012'"
      ]
     },
     "execution_count": 2,
     "metadata": {},
     "output_type": "execute_result"
    }
   ],
   "source": [
    "today = datetime.datetime.today()\n",
    "month_ago = str(today.year) + str(today.month-1) + str(today.day)\n",
    "month_ago2 = str(today.year) + str(today.month-2) + str(today.day)\n",
    "today = str(today.year) + str(today.month) + str(today.day)\n",
    "month_ago"
   ]
  },
  {
   "cell_type": "code",
   "execution_count": 3,
   "metadata": {},
   "outputs": [
    {
     "data": {
      "text/plain": [
       "(50, 50, 100)"
      ]
     },
     "execution_count": 3,
     "metadata": {},
     "output_type": "execute_result"
    }
   ],
   "source": [
    "shrink_kospi = stock.get_market_cap_by_ticker(month_ago, market='KOSPI').sort_values('시가총액', ascending=False)\n",
    "shrink_kospi = shrink_kospi[0:50]\n",
    "shrink_kosdaq = stock.get_market_cap_by_ticker(month_ago, market='KOSDAQ').sort_values('시가총액', ascending=False)\n",
    "shrink_kosdaq = shrink_kosdaq[0:50]\n",
    "name1 = []\n",
    "name2 = []\n",
    "for ticker in shrink_kospi.index:\n",
    "    name1.append(kospi_list[kospi_list['종목코드'] == ticker]['종목명'].values[0])\n",
    "for ticker in shrink_kosdaq.index:\n",
    "    name2.append(kosdaq_list[kosdaq_list['종목코드'] == ticker]['종목명'].values[0])\n",
    "total_name = name1 + name2\n",
    "len(name1), len(name2), len(total_name)"
   ]
  },
  {
   "cell_type": "code",
   "execution_count": 4,
   "metadata": {},
   "outputs": [],
   "source": [
    "def get_name(name):\n",
    "    name = name\n",
    "    fromdate = month_ago2\n",
    "    todate = today\n",
    "\n",
    "    ticker = stock_list.loc[stock_list['종목명']==name, '종목코드']\n",
    "    df = stock.get_market_ohlcv_by_date(fromdate=fromdate, todate=todate, ticker=ticker)\n",
    "    df = df.rename(columns={'시가':'Open', '고가':'High', '저가':'Low', '종가':'Close', '거래량':'Volume'})\n",
    "    df['ma20'] = df['Close'].rolling(window=20).mean() # 20일 이동표준편차\n",
    "    df['stddev'] = df['Close'].rolling(window=20).std() # 20일 이동표준편차\n",
    "    df['upper'] = df['ma20'] + 2*df['stddev'] # 상단밴드\n",
    "    df['lower'] = df['ma20'] - 2*df['stddev'] # 하단밴드\n",
    "    df = df[19:] # 20일 이동평균을 구했기 때문에 20번째 행부터 값이 들어가 있음\n",
    "    df.insert(0, column='volatility', value=0)\n",
    "\n",
    "    df['volatility'] = (df['upper'] - df['lower'])\n",
    "\n",
    "    return df[::-1]\n"
   ]
  },
  {
   "cell_type": "code",
   "execution_count": 5,
   "metadata": {},
   "outputs": [
    {
     "data": {
      "text/plain": [
       "5"
      ]
     },
     "execution_count": 5,
     "metadata": {},
     "output_type": "execute_result"
    }
   ],
   "source": [
    "select = []\n",
    "for name in total_name:\n",
    "    cnt_moment = 0\n",
    "    mnt = get_name(name)['Close']\n",
    "    if (mnt[1] > mnt[3]) & (mnt[2] > mnt[4]) & (mnt[3] > mnt[5]):\n",
    "        select.append(name)\n",
    "\n",
    "len(select)\n",
    "        "
   ]
  },
  {
   "cell_type": "code",
   "execution_count": 6,
   "metadata": {},
   "outputs": [
    {
     "data": {
      "text/plain": [
       "['에디슨EV']"
      ]
     },
     "execution_count": 6,
     "metadata": {},
     "output_type": "execute_result"
    }
   ],
   "source": [
    "select2 = []\n",
    "for name in select:\n",
    "    cnt_moment = 0\n",
    "    vol = get_name(name)['volatility']\n",
    "    if (vol[1] > vol[3]) & (vol[2] > vol[4]) & (vol[3] > vol[5]):\n",
    "        select2.append(name)\n",
    "\n",
    "select2  "
   ]
  },
  {
   "cell_type": "code",
   "execution_count": 7,
   "metadata": {},
   "outputs": [
    {
     "name": "stderr",
     "output_type": "stream",
     "text": [
      "C:\\Users\\ghdak\\AppData\\Local\\Temp/ipykernel_19248/2377802709.py:27: SettingWithCopyWarning: \n",
      "A value is trying to be set on a copy of a slice from a DataFrame\n",
      "\n",
      "See the caveats in the documentation: https://pandas.pydata.org/pandas-docs/stable/user_guide/indexing.html#returning-a-view-versus-a-copy\n",
      "  df1['f_vol'][i] = df['volatility'][i] - df['volatility'][i-1]\n",
      "C:\\Users\\ghdak\\AppData\\Local\\Temp/ipykernel_19248/2377802709.py:28: SettingWithCopyWarning: \n",
      "A value is trying to be set on a copy of a slice from a DataFrame\n",
      "\n",
      "See the caveats in the documentation: https://pandas.pydata.org/pandas-docs/stable/user_guide/indexing.html#returning-a-view-versus-a-copy\n",
      "  df1['f_ma20'][i] = df['ma20'][i] - df['ma20'][i-1]\n",
      "C:\\Users\\ghdak\\AppData\\Local\\Temp/ipykernel_19248/2377802709.py:29: SettingWithCopyWarning: \n",
      "A value is trying to be set on a copy of a slice from a DataFrame\n",
      "\n",
      "See the caveats in the documentation: https://pandas.pydata.org/pandas-docs/stable/user_guide/indexing.html#returning-a-view-versus-a-copy\n",
      "  df1['f_close'][i] = df['Close'][i] - df['Close'][i-1]\n",
      "C:\\Users\\ghdak\\AppData\\Local\\Temp/ipykernel_19248/2377802709.py:31: SettingWithCopyWarning: \n",
      "A value is trying to be set on a copy of a slice from a DataFrame\n",
      "\n",
      "See the caveats in the documentation: https://pandas.pydata.org/pandas-docs/stable/user_guide/indexing.html#returning-a-view-versus-a-copy\n",
      "  df1['ff_vol'][i] = df1['f_vol'][i] - df1['f_vol'][i-1]\n"
     ]
    },
    {
     "data": {
      "text/html": [
       "<div>\n",
       "<style scoped>\n",
       "    .dataframe tbody tr th:only-of-type {\n",
       "        vertical-align: middle;\n",
       "    }\n",
       "\n",
       "    .dataframe tbody tr th {\n",
       "        vertical-align: top;\n",
       "    }\n",
       "\n",
       "    .dataframe thead th {\n",
       "        text-align: right;\n",
       "    }\n",
       "</style>\n",
       "<table border=\"1\" class=\"dataframe\">\n",
       "  <thead>\n",
       "    <tr style=\"text-align: right;\">\n",
       "      <th></th>\n",
       "      <th>ff_vol</th>\n",
       "      <th>f_vol</th>\n",
       "      <th>f_ma20</th>\n",
       "      <th>f_close</th>\n",
       "      <th>Close</th>\n",
       "      <th>ma20</th>\n",
       "      <th>volatility</th>\n",
       "    </tr>\n",
       "    <tr>\n",
       "      <th>날짜</th>\n",
       "      <th></th>\n",
       "      <th></th>\n",
       "      <th></th>\n",
       "      <th></th>\n",
       "      <th></th>\n",
       "      <th></th>\n",
       "      <th></th>\n",
       "    </tr>\n",
       "  </thead>\n",
       "  <tbody>\n",
       "    <tr>\n",
       "      <th>2021-11-11</th>\n",
       "      <td>0.252850</td>\n",
       "      <td>0.705954</td>\n",
       "      <td>0.670659</td>\n",
       "      <td>0.250000</td>\n",
       "      <td>0.161765</td>\n",
       "      <td>0.046117</td>\n",
       "      <td>0.102855</td>\n",
       "    </tr>\n",
       "    <tr>\n",
       "      <th>2021-11-10</th>\n",
       "      <td>0.316062</td>\n",
       "      <td>0.719320</td>\n",
       "      <td>0.760479</td>\n",
       "      <td>0.392857</td>\n",
       "      <td>0.279412</td>\n",
       "      <td>0.045307</td>\n",
       "      <td>0.105428</td>\n",
       "    </tr>\n",
       "    <tr>\n",
       "      <th>2021-11-09</th>\n",
       "      <td>0.061140</td>\n",
       "      <td>0.658566</td>\n",
       "      <td>1.000000</td>\n",
       "      <td>0.285714</td>\n",
       "      <td>0.338235</td>\n",
       "      <td>0.039644</td>\n",
       "      <td>0.099856</td>\n",
       "    </tr>\n",
       "    <tr>\n",
       "      <th>2021-11-08</th>\n",
       "      <td>0.414508</td>\n",
       "      <td>0.896719</td>\n",
       "      <td>0.940120</td>\n",
       "      <td>1.000000</td>\n",
       "      <td>0.441176</td>\n",
       "      <td>0.021036</td>\n",
       "      <td>0.129213</td>\n",
       "    </tr>\n",
       "    <tr>\n",
       "      <th>2021-11-05</th>\n",
       "      <td>0.249741</td>\n",
       "      <td>0.720535</td>\n",
       "      <td>0.688623</td>\n",
       "      <td>0.500000</td>\n",
       "      <td>0.250000</td>\n",
       "      <td>0.005663</td>\n",
       "      <td>0.022763</td>\n",
       "    </tr>\n",
       "    <tr>\n",
       "      <th>2021-11-04</th>\n",
       "      <td>0.323316</td>\n",
       "      <td>0.737546</td>\n",
       "      <td>0.730539</td>\n",
       "      <td>0.928571</td>\n",
       "      <td>0.264706</td>\n",
       "      <td>0.004045</td>\n",
       "      <td>0.016047</td>\n",
       "    </tr>\n",
       "    <tr>\n",
       "      <th>2021-11-03</th>\n",
       "      <td>0.301554</td>\n",
       "      <td>0.668287</td>\n",
       "      <td>0.449102</td>\n",
       "      <td>0.285714</td>\n",
       "      <td>0.102941</td>\n",
       "      <td>0.000000</td>\n",
       "      <td>0.000000</td>\n",
       "    </tr>\n",
       "    <tr>\n",
       "      <th>2021-11-02</th>\n",
       "      <td>0.258031</td>\n",
       "      <td>0.624544</td>\n",
       "      <td>0.508982</td>\n",
       "      <td>0.750000</td>\n",
       "      <td>0.205882</td>\n",
       "      <td>0.011327</td>\n",
       "      <td>0.023807</td>\n",
       "    </tr>\n",
       "  </tbody>\n",
       "</table>\n",
       "</div>"
      ],
      "text/plain": [
       "              ff_vol     f_vol    f_ma20   f_close     Close      ma20  \\\n",
       "날짜                                                                       \n",
       "2021-11-11  0.252850  0.705954  0.670659  0.250000  0.161765  0.046117   \n",
       "2021-11-10  0.316062  0.719320  0.760479  0.392857  0.279412  0.045307   \n",
       "2021-11-09  0.061140  0.658566  1.000000  0.285714  0.338235  0.039644   \n",
       "2021-11-08  0.414508  0.896719  0.940120  1.000000  0.441176  0.021036   \n",
       "2021-11-05  0.249741  0.720535  0.688623  0.500000  0.250000  0.005663   \n",
       "2021-11-04  0.323316  0.737546  0.730539  0.928571  0.264706  0.004045   \n",
       "2021-11-03  0.301554  0.668287  0.449102  0.285714  0.102941  0.000000   \n",
       "2021-11-02  0.258031  0.624544  0.508982  0.750000  0.205882  0.011327   \n",
       "\n",
       "            volatility  \n",
       "날짜                      \n",
       "2021-11-11    0.102855  \n",
       "2021-11-10    0.105428  \n",
       "2021-11-09    0.099856  \n",
       "2021-11-08    0.129213  \n",
       "2021-11-05    0.022763  \n",
       "2021-11-04    0.016047  \n",
       "2021-11-03    0.000000  \n",
       "2021-11-02    0.023807  "
      ]
     },
     "execution_count": 7,
     "metadata": {},
     "output_type": "execute_result"
    }
   ],
   "source": [
    "name = '한국전력'\n",
    "today = datetime.datetime.today()\n",
    "month_ago = str(today.year) + str(today.month-1) + str(today.day)\n",
    "month_ago2 = str(today.year) + str(today.month-2) + str(today.day)\n",
    "today = str(today.year) + str(today.month) + str(today.day)\n",
    "fromdate = str(20210601)\n",
    "todate = today\n",
    "\n",
    "ticker = stock_list.loc[stock_list['종목명']==name, '종목코드']\n",
    "df = stock.get_market_ohlcv_by_date(fromdate=fromdate, todate=todate, ticker=ticker)\n",
    "df = df.rename(columns={'시가':'Open', '고가':'High', '저가':'Low', '종가':'Close', '거래량':'Volume'})\n",
    "df['ma20'] = df['Close'].rolling(window=20).mean() # 20일 이동평균\n",
    "df['stddev'] = df['Close'].rolling(window=20).std() # 20일 이동표준편차\n",
    "df['upper'] = df['ma20'] + 2*df['stddev'] # 상단밴드\n",
    "df['lower'] = df['ma20'] - 2*df['stddev'] # 하단밴드\n",
    "df = df[19:] # 20일 이동평균을 구했기 때문에 20번째 행부터 값이 들어가 있음\n",
    "df['volatility'] = (df['upper'] - df['lower'])/2\n",
    "df[::-1].head(8)\n",
    "\n",
    "df1 = df.copy().loc[:,('Close','ma20','volatility')]\n",
    "df1.insert(0, column='f_close', value=0)\n",
    "df1.insert(0, column='f_ma20', value=0)\n",
    "df1.insert(0, column='f_vol', value=0)\n",
    "df1.insert(0, column='ff_vol', value=0)\n",
    "\n",
    "for i in range(1, len(df1)):\n",
    "    df1['f_vol'][i] = df['volatility'][i] - df['volatility'][i-1]\n",
    "    df1['f_ma20'][i] = df['ma20'][i] - df['ma20'][i-1]\n",
    "    df1['f_close'][i] = df['Close'][i] - df['Close'][i-1]\n",
    "for i in range(1, len(df1)):\n",
    "    df1['ff_vol'][i] = df1['f_vol'][i] - df1['f_vol'][i-1]\n",
    "\n",
    "\n",
    "scaler = MinMaxScaler()\n",
    "df2 = df1.copy()\n",
    "df2[:] = scaler.fit_transform(df2[:])\n",
    "\n",
    "df2[::-1].head(8)"
   ]
  },
  {
   "cell_type": "code",
   "execution_count": 8,
   "metadata": {},
   "outputs": [],
   "source": [
    "## back testing\n"
   ]
  }
 ],
 "metadata": {
  "interpreter": {
   "hash": "74c836ce15075f4ca5d2c1e02dd832651d0d5136e5f1c91f13c26045b791040c"
  },
  "kernelspec": {
   "display_name": "Python 3.9.7 64-bit ('gpu_env': conda)",
   "language": "python",
   "name": "python3"
  },
  "language_info": {
   "codemirror_mode": {
    "name": "ipython",
    "version": 3
   },
   "file_extension": ".py",
   "mimetype": "text/x-python",
   "name": "python",
   "nbconvert_exporter": "python",
   "pygments_lexer": "ipython3",
   "version": "3.9.7"
  },
  "orig_nbformat": 4
 },
 "nbformat": 4,
 "nbformat_minor": 2
}
