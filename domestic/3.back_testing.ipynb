{
 "cells": [
  {
   "cell_type": "code",
   "execution_count": 1,
   "metadata": {},
   "outputs": [],
   "source": [
    "from pykrx import stock\n",
    "from sklearn.preprocessing import MinMaxScaler\n",
    "import pandas as pd\n",
    "import matplotlib.pyplot as plt\n",
    "import matplotlib\n",
    "from matplotlib import font_manager, rc\n",
    "import platform\n",
    "import datetime\n",
    "if platform.system() == 'Windows':\n",
    "# 윈도우인 경우\n",
    "    font_name = font_manager.FontProperties(fname=\"c:/Windows/Fonts/malgun.ttf\").get_name()\n",
    "    rc('font', family=font_name)\n",
    "matplotlib.rcParams['axes.unicode_minus'] = False\n",
    "stock_list = pd.DataFrame({'종목코드':stock.get_market_ticker_list(market=\"ALL\")})\n",
    "stock_list['종목명'] = stock_list['종목코드'].map(lambda x: stock.get_market_ticker_name(x))\n",
    "\n",
    "kospi_list = pd.DataFrame({'종목코드':stock.get_market_ticker_list(market=\"ALL\")})\n",
    "kospi_list['종목명'] = stock_list['종목코드'].map(lambda x: stock.get_market_ticker_name(x))\n",
    "\n",
    "kosdaq_list = pd.DataFrame({'종목코드':stock.get_market_ticker_list(market=\"KOSDAQ\")})\n",
    "kosdaq_list['종목명'] = stock_list['종목코드'].map(lambda x: stock.get_market_ticker_name(x))\n"
   ]
  },
  {
   "cell_type": "code",
   "execution_count": 2,
   "metadata": {},
   "outputs": [
    {
     "data": {
      "text/plain": [
       "'20211012'"
      ]
     },
     "execution_count": 2,
     "metadata": {},
     "output_type": "execute_result"
    }
   ],
   "source": [
    "today = datetime.datetime.today()\n",
    "month_ago = str(today.year) + str(today.month-1) + str(today.day)\n",
    "month_ago2 = str(today.year) + str(today.month-2) + str(today.day)\n",
    "today = str(today.year) + str(today.month) + str(today.day)\n",
    "month_ago"
   ]
  },
  {
   "cell_type": "code",
   "execution_count": 3,
   "metadata": {},
   "outputs": [],
   "source": [
    "shrink_kospi = stock.get_market_cap_by_ticker('20211001', market='KOSPI').sort_values('시가총액', ascending=False)\n",
    "shrink_kospi = shrink_kospi[0:50]\n",
    "shrink_kosdaq = stock.get_market_cap_by_ticker('20211001', market='KOSDAQ').sort_values('시가총액', ascending=False)\n",
    "shrink_kosdaq = shrink_kosdaq[0:50]\n",
    "name1 = []\n",
    "name2 = []\n",
    "for ticker in shrink_kospi.index:\n",
    "    name1.append(kospi_list[kospi_list['종목코드'] == ticker]['종목명'].values[0])\n",
    "for ticker in shrink_kosdaq.index:\n",
    "    name2.append(kosdaq_list[kosdaq_list['종목코드'] == ticker]['종목명'].values[0])\n",
    "total_name = name1 + name2\n",
    "len(name1), len(name2), len(total_name)\n",
    "total_name.remove('현대중공업')"
   ]
  },
  {
   "cell_type": "code",
   "execution_count": 4,
   "metadata": {},
   "outputs": [],
   "source": [
    "def get_name(name, fromdate, todate):\n",
    "    name = name\n",
    "    ticker = stock_list.loc[stock_list['종목명']==name, '종목코드']\n",
    "    df = stock.get_market_ohlcv_by_date(fromdate=fromdate, todate=todate, ticker=ticker)\n",
    "    df = df.rename(columns={'시가':'Open', '고가':'High', '저가':'Low', '종가':'Close', '거래량':'Volume'})\n",
    "    df['ma20'] = df['Close'].rolling(window=20).mean() # 20일 이동표준편차\n",
    "    df['stddev'] = df['Close'].rolling(window=20).std() # 20일 이동표준편차\n",
    "    df['upper'] = df['ma20'] + 2*df['stddev'] # 상단밴드\n",
    "    df['lower'] = df['ma20'] - 2*df['stddev'] # 하단밴드\n",
    "    df = df[19:] # 20일 이동평균을 구했기 때문에 20번째 행부터 값이 들어가 있음\n",
    "    df.insert(0, column='volatility', value=0)\n",
    "\n",
    "    df['volatility'] = (df['upper'] - df['lower'])\n",
    "\n",
    "    return df[::-1]\n"
   ]
  },
  {
   "cell_type": "code",
   "execution_count": 5,
   "metadata": {},
   "outputs": [
    {
     "data": {
      "text/plain": [
       "92"
      ]
     },
     "execution_count": 5,
     "metadata": {},
     "output_type": "execute_result"
    }
   ],
   "source": [
    "select0 = []\n",
    "fromdate = str(20210801)\n",
    "todate = str(20211001)\n",
    "for name in total_name:\n",
    "    if get_name(name, fromdate, todate)['Close'][0] <= (get_name(name, fromdate, todate)['ma20'][0])*1.05:\n",
    "        select0.append(name) \n",
    "len(select0) "
   ]
  },
  {
   "cell_type": "code",
   "execution_count": 6,
   "metadata": {},
   "outputs": [
    {
     "data": {
      "text/plain": [
       "13"
      ]
     },
     "execution_count": 6,
     "metadata": {},
     "output_type": "execute_result"
    }
   ],
   "source": [
    "select = []\n",
    "fromdate = str(20210701)\n",
    "todate = str(20211001)\n",
    "for name in select0:\n",
    "    mnt = get_name(name, fromdate, todate)['Close']\n",
    "    if (mnt[1] > mnt[3]) & (mnt[2] > mnt[4]):\n",
    "        select.append(name)\n",
    "\n",
    "len(select)        "
   ]
  },
  {
   "cell_type": "code",
   "execution_count": 7,
   "metadata": {},
   "outputs": [
    {
     "data": {
      "text/plain": [
       "['SK이노베이션', 'KB금융', '신한지주', '하나금융지주', '삼성화재', '우리금융지주', '한화솔루션']"
      ]
     },
     "execution_count": 7,
     "metadata": {},
     "output_type": "execute_result"
    }
   ],
   "source": [
    "select2 = []\n",
    "for name in select:\n",
    "    cnt_moment = 0\n",
    "    vol = get_name(name, fromdate, todate)['volatility']\n",
    "    if (vol[1] > vol[3]) & (vol[2] > vol[4]):\n",
    "        select2.append(name)\n",
    "\n",
    "select2  \n"
   ]
  },
  {
   "cell_type": "code",
   "execution_count": 8,
   "metadata": {},
   "outputs": [
    {
     "data": {
      "text/html": [
       "<div>\n",
       "<style scoped>\n",
       "    .dataframe tbody tr th:only-of-type {\n",
       "        vertical-align: middle;\n",
       "    }\n",
       "\n",
       "    .dataframe tbody tr th {\n",
       "        vertical-align: top;\n",
       "    }\n",
       "\n",
       "    .dataframe thead th {\n",
       "        text-align: right;\n",
       "    }\n",
       "</style>\n",
       "<table border=\"1\" class=\"dataframe\">\n",
       "  <thead>\n",
       "    <tr style=\"text-align: right;\">\n",
       "      <th></th>\n",
       "      <th>SK이노베이션</th>\n",
       "      <th>KB금융</th>\n",
       "      <th>신한지주</th>\n",
       "      <th>하나금융지주</th>\n",
       "      <th>삼성화재</th>\n",
       "      <th>우리금융지주</th>\n",
       "      <th>한화솔루션</th>\n",
       "    </tr>\n",
       "  </thead>\n",
       "  <tbody>\n",
       "    <tr>\n",
       "      <th>20211001</th>\n",
       "      <td>NaN</td>\n",
       "      <td>NaN</td>\n",
       "      <td>NaN</td>\n",
       "      <td>NaN</td>\n",
       "      <td>NaN</td>\n",
       "      <td>NaN</td>\n",
       "      <td>NaN</td>\n",
       "    </tr>\n",
       "    <tr>\n",
       "      <th>d+1</th>\n",
       "      <td>NaN</td>\n",
       "      <td>NaN</td>\n",
       "      <td>NaN</td>\n",
       "      <td>NaN</td>\n",
       "      <td>NaN</td>\n",
       "      <td>NaN</td>\n",
       "      <td>NaN</td>\n",
       "    </tr>\n",
       "    <tr>\n",
       "      <th>d+2</th>\n",
       "      <td>NaN</td>\n",
       "      <td>NaN</td>\n",
       "      <td>NaN</td>\n",
       "      <td>NaN</td>\n",
       "      <td>NaN</td>\n",
       "      <td>NaN</td>\n",
       "      <td>NaN</td>\n",
       "    </tr>\n",
       "    <tr>\n",
       "      <th>d+3</th>\n",
       "      <td>NaN</td>\n",
       "      <td>NaN</td>\n",
       "      <td>NaN</td>\n",
       "      <td>NaN</td>\n",
       "      <td>NaN</td>\n",
       "      <td>NaN</td>\n",
       "      <td>NaN</td>\n",
       "    </tr>\n",
       "    <tr>\n",
       "      <th>d+4</th>\n",
       "      <td>NaN</td>\n",
       "      <td>NaN</td>\n",
       "      <td>NaN</td>\n",
       "      <td>NaN</td>\n",
       "      <td>NaN</td>\n",
       "      <td>NaN</td>\n",
       "      <td>NaN</td>\n",
       "    </tr>\n",
       "    <tr>\n",
       "      <th>d+5</th>\n",
       "      <td>NaN</td>\n",
       "      <td>NaN</td>\n",
       "      <td>NaN</td>\n",
       "      <td>NaN</td>\n",
       "      <td>NaN</td>\n",
       "      <td>NaN</td>\n",
       "      <td>NaN</td>\n",
       "    </tr>\n",
       "    <tr>\n",
       "      <th>d+6</th>\n",
       "      <td>NaN</td>\n",
       "      <td>NaN</td>\n",
       "      <td>NaN</td>\n",
       "      <td>NaN</td>\n",
       "      <td>NaN</td>\n",
       "      <td>NaN</td>\n",
       "      <td>NaN</td>\n",
       "    </tr>\n",
       "    <tr>\n",
       "      <th>d+7</th>\n",
       "      <td>NaN</td>\n",
       "      <td>NaN</td>\n",
       "      <td>NaN</td>\n",
       "      <td>NaN</td>\n",
       "      <td>NaN</td>\n",
       "      <td>NaN</td>\n",
       "      <td>NaN</td>\n",
       "    </tr>\n",
       "    <tr>\n",
       "      <th>d+8</th>\n",
       "      <td>NaN</td>\n",
       "      <td>NaN</td>\n",
       "      <td>NaN</td>\n",
       "      <td>NaN</td>\n",
       "      <td>NaN</td>\n",
       "      <td>NaN</td>\n",
       "      <td>NaN</td>\n",
       "    </tr>\n",
       "  </tbody>\n",
       "</table>\n",
       "</div>"
      ],
      "text/plain": [
       "         SK이노베이션 KB금융 신한지주 하나금융지주 삼성화재 우리금융지주 한화솔루션\n",
       "20211001     NaN  NaN  NaN    NaN  NaN    NaN   NaN\n",
       "d+1          NaN  NaN  NaN    NaN  NaN    NaN   NaN\n",
       "d+2          NaN  NaN  NaN    NaN  NaN    NaN   NaN\n",
       "d+3          NaN  NaN  NaN    NaN  NaN    NaN   NaN\n",
       "d+4          NaN  NaN  NaN    NaN  NaN    NaN   NaN\n",
       "d+5          NaN  NaN  NaN    NaN  NaN    NaN   NaN\n",
       "d+6          NaN  NaN  NaN    NaN  NaN    NaN   NaN\n",
       "d+7          NaN  NaN  NaN    NaN  NaN    NaN   NaN\n",
       "d+8          NaN  NaN  NaN    NaN  NaN    NaN   NaN"
      ]
     },
     "execution_count": 8,
     "metadata": {},
     "output_type": "execute_result"
    }
   ],
   "source": [
    "result_df = pd.DataFrame(index=[todate, 'd+1', 'd+2', 'd+3', 'd+4', 'd+5', 'd+6', 'd+7', 'd+8'], columns=select2)\n",
    "# result_df.iloc[1]['SK이노베이션'] = 3\n",
    "# result_df.iloc[2]['삼성화재'] = 4\n",
    "result_df"
   ]
  },
  {
   "cell_type": "code",
   "execution_count": 9,
   "metadata": {},
   "outputs": [
    {
     "name": "stderr",
     "output_type": "stream",
     "text": [
      "C:\\Users\\ghdak\\AppData\\Local\\Temp/ipykernel_20824/433634298.py:12: SettingWithCopyWarning: \n",
      "A value is trying to be set on a copy of a slice from a DataFrame\n",
      "\n",
      "See the caveats in the documentation: https://pandas.pydata.org/pandas-docs/stable/user_guide/indexing.html#returning-a-view-versus-a-copy\n",
      "  df1['f_close'][i] = df['Close'][i] - df['Close'][i-1]\n",
      "C:\\Users\\ghdak\\AppData\\Local\\Temp/ipykernel_20824/433634298.py:13: SettingWithCopyWarning: \n",
      "A value is trying to be set on a copy of a slice from a DataFrame\n",
      "\n",
      "See the caveats in the documentation: https://pandas.pydata.org/pandas-docs/stable/user_guide/indexing.html#returning-a-view-versus-a-copy\n",
      "  df1['proportion'][i] =  (df1['f_close'][i] / df1['Close'][i] * 100)\n"
     ]
    },
    {
     "name": "stdout",
     "output_type": "stream",
     "text": [
      "            proportion  f_close   Open   High    Low  Close   Volume\n",
      "날짜                                                                  \n",
      "2021-10-01           0        0  44950  44950  42800  42950  1600589\n",
      "2021-10-05           2     1000  43450  44550  42850  43950  2334833\n",
      "2021-10-06          -1     -500  44550  45850  43300  43450  3759193\n",
      "2021-10-07          -2    -1200  44250  44300  40650  42250  3532988\n",
      "2021-10-08           0     -250  42150  43150  41900  42000  1442035\n"
     ]
    }
   ],
   "source": [
    "for name in select2:\n",
    "    ticker = stock_list.loc[stock_list['종목명']==name, '종목코드']\n",
    "    df = stock.get_market_ohlcv_by_date(fromdate='20211001', todate='20211101', ticker=ticker)\n",
    "\n",
    "\n",
    "    df = df.rename(columns={'시가':'Open', '고가':'High', '저가':'Low', '종가':'Close', '거래량':'Volume'})\n",
    "    df1 = df.copy()\n",
    "    df1.insert(0, column='f_close', value=0)\n",
    "    df1.insert(0, column='proportion', value=0)  \n",
    "\n",
    "    for i in range(1, len(df1)):\n",
    "        df1['f_close'][i] = df['Close'][i] - df['Close'][i-1]\n",
    "        df1['proportion'][i] =  (df1['f_close'][i] / df1['Close'][i] * 100)\n",
    "\n",
    "    for i in range(8):\n",
    "        result_df.iloc[i][name] = df1.iloc[i]['proportion']\n",
    "print(df1[:5])"
   ]
  },
  {
   "cell_type": "code",
   "execution_count": 10,
   "metadata": {},
   "outputs": [
    {
     "data": {
      "text/html": [
       "<div>\n",
       "<style scoped>\n",
       "    .dataframe tbody tr th:only-of-type {\n",
       "        vertical-align: middle;\n",
       "    }\n",
       "\n",
       "    .dataframe tbody tr th {\n",
       "        vertical-align: top;\n",
       "    }\n",
       "\n",
       "    .dataframe thead th {\n",
       "        text-align: right;\n",
       "    }\n",
       "</style>\n",
       "<table border=\"1\" class=\"dataframe\">\n",
       "  <thead>\n",
       "    <tr style=\"text-align: right;\">\n",
       "      <th></th>\n",
       "      <th>SK이노베이션</th>\n",
       "      <th>KB금융</th>\n",
       "      <th>신한지주</th>\n",
       "      <th>하나금융지주</th>\n",
       "      <th>삼성화재</th>\n",
       "      <th>우리금융지주</th>\n",
       "      <th>한화솔루션</th>\n",
       "    </tr>\n",
       "  </thead>\n",
       "  <tbody>\n",
       "    <tr>\n",
       "      <th>20211001</th>\n",
       "      <td>0</td>\n",
       "      <td>0</td>\n",
       "      <td>0</td>\n",
       "      <td>0</td>\n",
       "      <td>0</td>\n",
       "      <td>0</td>\n",
       "      <td>0</td>\n",
       "    </tr>\n",
       "    <tr>\n",
       "      <th>d+1</th>\n",
       "      <td>0</td>\n",
       "      <td>0</td>\n",
       "      <td>0</td>\n",
       "      <td>-1</td>\n",
       "      <td>1</td>\n",
       "      <td>0</td>\n",
       "      <td>2</td>\n",
       "    </tr>\n",
       "    <tr>\n",
       "      <th>d+2</th>\n",
       "      <td>-3</td>\n",
       "      <td>-1</td>\n",
       "      <td>0</td>\n",
       "      <td>0</td>\n",
       "      <td>1</td>\n",
       "      <td>0</td>\n",
       "      <td>-1</td>\n",
       "    </tr>\n",
       "    <tr>\n",
       "      <th>d+3</th>\n",
       "      <td>-1</td>\n",
       "      <td>2</td>\n",
       "      <td>1</td>\n",
       "      <td>1</td>\n",
       "      <td>0</td>\n",
       "      <td>1</td>\n",
       "      <td>-2</td>\n",
       "    </tr>\n",
       "    <tr>\n",
       "      <th>d+4</th>\n",
       "      <td>-1</td>\n",
       "      <td>-1</td>\n",
       "      <td>-1</td>\n",
       "      <td>-1</td>\n",
       "      <td>0</td>\n",
       "      <td>0</td>\n",
       "      <td>0</td>\n",
       "    </tr>\n",
       "    <tr>\n",
       "      <th>d+5</th>\n",
       "      <td>3</td>\n",
       "      <td>0</td>\n",
       "      <td>-1</td>\n",
       "      <td>-1</td>\n",
       "      <td>0</td>\n",
       "      <td>0</td>\n",
       "      <td>5</td>\n",
       "    </tr>\n",
       "    <tr>\n",
       "      <th>d+6</th>\n",
       "      <td>0</td>\n",
       "      <td>-1</td>\n",
       "      <td>0</td>\n",
       "      <td>0</td>\n",
       "      <td>0</td>\n",
       "      <td>0</td>\n",
       "      <td>1</td>\n",
       "    </tr>\n",
       "    <tr>\n",
       "      <th>d+7</th>\n",
       "      <td>1</td>\n",
       "      <td>1</td>\n",
       "      <td>0</td>\n",
       "      <td>0</td>\n",
       "      <td>0</td>\n",
       "      <td>0</td>\n",
       "      <td>-1</td>\n",
       "    </tr>\n",
       "    <tr>\n",
       "      <th>d+8</th>\n",
       "      <td>NaN</td>\n",
       "      <td>NaN</td>\n",
       "      <td>NaN</td>\n",
       "      <td>NaN</td>\n",
       "      <td>NaN</td>\n",
       "      <td>NaN</td>\n",
       "      <td>NaN</td>\n",
       "    </tr>\n",
       "  </tbody>\n",
       "</table>\n",
       "</div>"
      ],
      "text/plain": [
       "         SK이노베이션 KB금융 신한지주 하나금융지주 삼성화재 우리금융지주 한화솔루션\n",
       "20211001       0    0    0      0    0      0     0\n",
       "d+1            0    0    0     -1    1      0     2\n",
       "d+2           -3   -1    0      0    1      0    -1\n",
       "d+3           -1    2    1      1    0      1    -2\n",
       "d+4           -1   -1   -1     -1    0      0     0\n",
       "d+5            3    0   -1     -1    0      0     5\n",
       "d+6            0   -1    0      0    0      0     1\n",
       "d+7            1    1    0      0    0      0    -1\n",
       "d+8          NaN  NaN  NaN    NaN  NaN    NaN   NaN"
      ]
     },
     "execution_count": 10,
     "metadata": {},
     "output_type": "execute_result"
    }
   ],
   "source": [
    "result_df"
   ]
  },
  {
   "cell_type": "code",
   "execution_count": 11,
   "metadata": {},
   "outputs": [
    {
     "name": "stderr",
     "output_type": "stream",
     "text": [
      "C:\\Users\\ghdak\\AppData\\Local\\Temp/ipykernel_20824/2609679064.py:23: SettingWithCopyWarning: \n",
      "A value is trying to be set on a copy of a slice from a DataFrame\n",
      "\n",
      "See the caveats in the documentation: https://pandas.pydata.org/pandas-docs/stable/user_guide/indexing.html#returning-a-view-versus-a-copy\n",
      "  df1['f_vol'][i] = df['volatility'][i] - df['volatility'][i-1]\n",
      "C:\\Users\\ghdak\\AppData\\Local\\Temp/ipykernel_20824/2609679064.py:24: SettingWithCopyWarning: \n",
      "A value is trying to be set on a copy of a slice from a DataFrame\n",
      "\n",
      "See the caveats in the documentation: https://pandas.pydata.org/pandas-docs/stable/user_guide/indexing.html#returning-a-view-versus-a-copy\n",
      "  df1['f_ma20'][i] = df['ma20'][i] - df['ma20'][i-1]\n",
      "C:\\Users\\ghdak\\AppData\\Local\\Temp/ipykernel_20824/2609679064.py:25: SettingWithCopyWarning: \n",
      "A value is trying to be set on a copy of a slice from a DataFrame\n",
      "\n",
      "See the caveats in the documentation: https://pandas.pydata.org/pandas-docs/stable/user_guide/indexing.html#returning-a-view-versus-a-copy\n",
      "  df1['f_close'][i] = df['Close'][i] - df['Close'][i-1]\n",
      "C:\\Users\\ghdak\\AppData\\Local\\Temp/ipykernel_20824/2609679064.py:27: SettingWithCopyWarning: \n",
      "A value is trying to be set on a copy of a slice from a DataFrame\n",
      "\n",
      "See the caveats in the documentation: https://pandas.pydata.org/pandas-docs/stable/user_guide/indexing.html#returning-a-view-versus-a-copy\n",
      "  df1['ff_vol'][i] = df1['f_vol'][i] - df1['f_vol'][i-1]\n"
     ]
    },
    {
     "data": {
      "image/png": "[encoded data removed]",
      "text/plain": [
       "<Figure size 1080x576 with 3 Axes>"
      ]
     },
     "metadata": {
      "needs_background": "light"
     },
     "output_type": "display_data"
    }
   ],
   "source": [
    "name = 'KB금융'\n",
    "fromdate = str(20210725)\n",
    "todate = str(20211030)\n",
    "ticker = stock_list.loc[stock_list['종목명']==name, '종목코드']\n",
    "df = stock.get_market_ohlcv_by_date(fromdate=fromdate, todate=todate, ticker=ticker)\n",
    "\n",
    "\n",
    "df = df.rename(columns={'시가':'Open', '고가':'High', '저가':'Low', '종가':'Close', '거래량':'Volume'})\n",
    "df['ma20'] = df['Close'].rolling(window=20).mean() # 20일 이동평균\n",
    "df['stddev'] = df['Close'].rolling(window=20).std() # 20일 이동표준편차\n",
    "df['upper'] = df['ma20'] + 2*df['stddev'] # 상단밴드\n",
    "df['lower'] = df['ma20'] - 2*df['stddev'] # 하단밴드\n",
    "df = df[19:] # 20일 이동평균을 구했기 때문에 20번째 행부터 값이 들어가 있음\n",
    "df['volatility'] = (df['upper'] - df['lower'])/2\n",
    "\n",
    "df1 = df.copy().loc[:,('Close','ma20','volatility')]\n",
    "df1.insert(0, column='f_close', value=0)\n",
    "df1.insert(0, column='f_ma20', value=0)\n",
    "df1.insert(0, column='f_vol', value=0)\n",
    "df1.insert(0, column='ff_vol', value=0)\n",
    "\n",
    "for i in range(1, len(df1)):\n",
    "    df1['f_vol'][i] = df['volatility'][i] - df['volatility'][i-1]\n",
    "    df1['f_ma20'][i] = df['ma20'][i] - df['ma20'][i-1]\n",
    "    df1['f_close'][i] = df['Close'][i] - df['Close'][i-1]\n",
    "for i in range(1, len(df1)):\n",
    "    df1['ff_vol'][i] = df1['f_vol'][i] - df1['f_vol'][i-1]\n",
    "\n",
    "\n",
    "scaler = MinMaxScaler()\n",
    "df2 = df1.copy()\n",
    "df2[:] = scaler.fit_transform(df2[:])\n",
    "\n",
    "\n",
    "fig, ax = plt.subplots(3,1,figsize=(15,8))\n",
    "\n",
    "ax[0].plot(df.index, df['Close'], label='Close')\n",
    "ax[0].plot(df.index, df['upper'], linestyle='dashed', label='Upper band')\n",
    "ax[0].plot(df.index, df['ma20'], linestyle='dashed', label='Moving Average 20')\n",
    "ax[0].plot(df.index, df['lower'], linestyle='dashed', label='Lower band')\n",
    "ax[0].legend(loc='best');\n",
    "ax[0].set_title(f'{name} 분석')\n",
    "\n",
    "ax[1].plot(df2['volatility']+2) \n",
    "ax[1].plot(df2['f_vol']+1)\n",
    "ax[1].plot(df2['f_vol']*df2['ff_vol']) \n",
    "ax[1].axhline(df2['f_vol'].mean()+2, color='red', linestyle='--')\n",
    "ax[1].axhline(df2['ff_vol'].mean()+1, color='red', linestyle='--')\n",
    "ax[1].axhline((df2['ff_vol']*df2['f_vol']).mean(), color='red', linestyle='--')\n",
    "\n",
    "ax[2].plot(df2['Close']*2 + 1)\n",
    "ax[2].plot(df2['f_close'] * df2['ff_vol'])\n",
    "# ax[2].plot(df2['f_close'] * df2['volatility'])\n",
    "\n",
    "ax[2].legend(['Close', 'mul_fvol_fclose'])\n",
    "plt.show()"
   ]
  }
 ],
 "metadata": {
  "interpreter": {
   "hash": "74c836ce15075f4ca5d2c1e02dd832651d0d5136e5f1c91f13c26045b791040c"
  },
  "kernelspec": {
   "display_name": "Python 3.9.7 64-bit ('gpu_env': conda)",
   "language": "python",
   "name": "python3"
  },
  "language_info": {
   "codemirror_mode": {
    "name": "ipython",
    "version": 3
   },
   "file_extension": ".py",
   "mimetype": "text/x-python",
   "name": "python",
   "nbconvert_exporter": "python",
   "pygments_lexer": "ipython3",
   "version": "3.9.7"
  },
  "orig_nbformat": 4
 },
 "nbformat": 4,
 "nbformat_minor": 2
}
