{
 "cells": [
  {
   "cell_type": "code",
   "execution_count": 1,
   "metadata": {},
   "outputs": [],
   "source": [
    "from pykrx import stock\n",
    "from sklearn.preprocessing import MinMaxScaler\n",
    "import pandas as pd\n",
    "import matplotlib.pyplot as plt\n",
    "import matplotlib\n",
    "from matplotlib import font_manager, rc\n",
    "import platform\n",
    "import datetime\n",
    "if platform.system() == 'Windows':\n",
    "# 윈도우인 경우\n",
    "    font_name = font_manager.FontProperties(fname=\"c:/Windows/Fonts/malgun.ttf\").get_name()\n",
    "    rc('font', family=font_name)\n",
    "matplotlib.rcParams['axes.unicode_minus'] = False\n",
    "stock_list = pd.DataFrame({'종목코드':stock.get_market_ticker_list(market=\"ALL\")})\n",
    "stock_list['종목명'] = stock_list['종목코드'].map(lambda x: stock.get_market_ticker_name(x))\n",
    "\n",
    "kospi_list = pd.DataFrame({'종목코드':stock.get_market_ticker_list(market=\"ALL\")})\n",
    "kospi_list['종목명'] = stock_list['종목코드'].map(lambda x: stock.get_market_ticker_name(x))\n",
    "\n",
    "kosdaq_list = pd.DataFrame({'종목코드':stock.get_market_ticker_list(market=\"KOSDAQ\")})\n",
    "kosdaq_list['종목명'] = stock_list['종목코드'].map(lambda x: stock.get_market_ticker_name(x))\n"
   ]
  },
  {
   "cell_type": "code",
   "execution_count": 2,
   "metadata": {},
   "outputs": [
    {
     "data": {
      "text/plain": [
       "'2021109'"
      ]
     },
     "execution_count": 2,
     "metadata": {},
     "output_type": "execute_result"
    }
   ],
   "source": [
    "today = datetime.datetime.today()\n",
    "month_ago = str(today.year) + str(today.month-1) + str(today.day)\n",
    "month_ago2 = str(today.year) + str(today.month-2) + str(today.day)\n",
    "today = str(today.year) + str(today.month) + str(today.day)\n",
    "month_ago"
   ]
  },
  {
   "cell_type": "code",
   "execution_count": 3,
   "metadata": {},
   "outputs": [
    {
     "data": {
      "text/plain": [
       "(50, 50, 100)"
      ]
     },
     "execution_count": 3,
     "metadata": {},
     "output_type": "execute_result"
    }
   ],
   "source": [
    "shrink_kospi = stock.get_market_cap_by_ticker(month_ago, market='KOSPI').sort_values('시가총액', ascending=False)\n",
    "shrink_kospi = shrink_kospi[0:50]\n",
    "shrink_kosdaq = stock.get_market_cap_by_ticker(month_ago, market='KOSDAQ').sort_values('시가총액', ascending=False)\n",
    "shrink_kosdaq = shrink_kosdaq[0:50]\n",
    "name1 = []\n",
    "name2 = []\n",
    "for ticker in shrink_kospi.index:\n",
    "    name1.append(kospi_list[kospi_list['종목코드'] == ticker]['종목명'].values[0])\n",
    "for ticker in shrink_kosdaq.index:\n",
    "    name2.append(kosdaq_list[kosdaq_list['종목코드'] == ticker]['종목명'].values[0])\n",
    "total_name = name1 + name2\n",
    "len(name1), len(name2), len(total_name)"
   ]
  },
  {
   "cell_type": "code",
   "execution_count": 4,
   "metadata": {},
   "outputs": [],
   "source": [
    "def get_name(name):\n",
    "    name = name\n",
    "    fromdate = month_ago2\n",
    "    todate = today\n",
    "\n",
    "    ticker = stock_list.loc[stock_list['종목명']==name, '종목코드']\n",
    "    df = stock.get_market_ohlcv_by_date(fromdate=fromdate, todate=todate, ticker=ticker)\n",
    "    df = df.rename(columns={'시가':'Open', '고가':'High', '저가':'Low', '종가':'Close', '거래량':'Volume'})\n",
    "    df['ma20'] = df['Close'].rolling(window=20).mean() # 20일 이동표준편차\n",
    "    df['stddev'] = df['Close'].rolling(window=20).std() # 20일 이동표준편차\n",
    "    df['upper'] = df['ma20'] + 2*df['stddev'] # 상단밴드\n",
    "    df['lower'] = df['ma20'] - 2*df['stddev'] # 하단밴드\n",
    "    df = df[19:] # 20일 이동평균을 구했기 때문에 20번째 행부터 값이 들어가 있음\n",
    "    df.insert(0, column='volatility', value=0)\n",
    "\n",
    "    df['volatility'] = (df['upper'] - df['lower'])\n",
    "\n",
    "    return df[::-1]\n"
   ]
  },
  {
   "cell_type": "code",
   "execution_count": 13,
   "metadata": {},
   "outputs": [
    {
     "data": {
      "text/plain": [
       "['현대차', '기아', '한국전력', 'KT&G', '하이브', '두산중공업', '동양', 'F&F', '아프리카TV']"
      ]
     },
     "execution_count": 13,
     "metadata": {},
     "output_type": "execute_result"
    }
   ],
   "source": [
    "select = []\n",
    "for name in total_name:\n",
    "    cnt_moment = 0\n",
    "    mnt = get_name(name)['Close']\n",
    "    if (mnt[1] > mnt[3]) & (mnt[2] > mnt[4]) & (mnt[3] > mnt[5]):\n",
    "        select.append(name)\n",
    "\n",
    "select  \n",
    "        "
   ]
  },
  {
   "cell_type": "code",
   "execution_count": 14,
   "metadata": {},
   "outputs": [
    {
     "data": {
      "text/plain": [
       "['KT&G', '하이브', '아프리카TV']"
      ]
     },
     "execution_count": 14,
     "metadata": {},
     "output_type": "execute_result"
    }
   ],
   "source": [
    "select2 = []\n",
    "for name in select:\n",
    "    cnt_moment = 0\n",
    "    vol = get_name(name)['volatility']\n",
    "    if (vol[1] > vol[3]) & (vol[2] > vol[4]) & (vol[3] > vol[5]):\n",
    "        select2.append(name)\n",
    "\n",
    "select2  "
   ]
  },
  {
   "cell_type": "code",
   "execution_count": null,
   "metadata": {},
   "outputs": [],
   "source": []
  },
  {
   "cell_type": "code",
   "execution_count": null,
   "metadata": {},
   "outputs": [],
   "source": [
    "## back testing\n"
   ]
  }
 ],
 "metadata": {
  "interpreter": {
   "hash": "74c836ce15075f4ca5d2c1e02dd832651d0d5136e5f1c91f13c26045b791040c"
  },
  "kernelspec": {
   "display_name": "Python 3.9.7 64-bit ('gpu_env': conda)",
   "language": "python",
   "name": "python3"
  },
  "language_info": {
   "codemirror_mode": {
    "name": "ipython",
    "version": 3
   },
   "file_extension": ".py",
   "mimetype": "text/x-python",
   "name": "python",
   "nbconvert_exporter": "python",
   "pygments_lexer": "ipython3",
   "version": "3.9.7"
  },
  "orig_nbformat": 4
 },
 "nbformat": 4,
 "nbformat_minor": 2
}
